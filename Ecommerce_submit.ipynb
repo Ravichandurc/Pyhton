{
 "cells": [
  {
   "cell_type": "code",
   "execution_count": 1,
   "id": "8ab8401a",
   "metadata": {},
   "outputs": [],
   "source": [
    "import pandas as pd"
   ]
  },
  {
   "cell_type": "code",
   "execution_count": 2,
   "id": "96f2a6b0",
   "metadata": {},
   "outputs": [
    {
     "data": {
      "text/html": [
       "<div>\n",
       "<style scoped>\n",
       "    .dataframe tbody tr th:only-of-type {\n",
       "        vertical-align: middle;\n",
       "    }\n",
       "\n",
       "    .dataframe tbody tr th {\n",
       "        vertical-align: top;\n",
       "    }\n",
       "\n",
       "    .dataframe thead th {\n",
       "        text-align: right;\n",
       "    }\n",
       "</style>\n",
       "<table border=\"1\" class=\"dataframe\">\n",
       "  <thead>\n",
       "    <tr style=\"text-align: right;\">\n",
       "      <th></th>\n",
       "      <th>product_name</th>\n",
       "      <th>product_type</th>\n",
       "      <th>price</th>\n",
       "      <th>customer_reviews</th>\n",
       "      <th>sold</th>\n",
       "    </tr>\n",
       "  </thead>\n",
       "  <tbody>\n",
       "    <tr>\n",
       "      <th>0</th>\n",
       "      <td>Product 1</td>\n",
       "      <td>Electronics</td>\n",
       "      <td>249.99</td>\n",
       "      <td>1.5</td>\n",
       "      <td>20</td>\n",
       "    </tr>\n",
       "    <tr>\n",
       "      <th>1</th>\n",
       "      <td>Product 2</td>\n",
       "      <td>Home Appliances</td>\n",
       "      <td>99.99</td>\n",
       "      <td>2.8</td>\n",
       "      <td>30</td>\n",
       "    </tr>\n",
       "    <tr>\n",
       "      <th>2</th>\n",
       "      <td>Product 3</td>\n",
       "      <td>Clothing</td>\n",
       "      <td>49.99</td>\n",
       "      <td>3.2</td>\n",
       "      <td>40</td>\n",
       "    </tr>\n",
       "    <tr>\n",
       "      <th>3</th>\n",
       "      <td>Product 4</td>\n",
       "      <td>Electronics</td>\n",
       "      <td>799.99</td>\n",
       "      <td>4.9</td>\n",
       "      <td>50</td>\n",
       "    </tr>\n",
       "    <tr>\n",
       "      <th>4</th>\n",
       "      <td>Product 5</td>\n",
       "      <td>Home Appliances</td>\n",
       "      <td>299.99</td>\n",
       "      <td>3.8</td>\n",
       "      <td>50</td>\n",
       "    </tr>\n",
       "    <tr>\n",
       "      <th>5</th>\n",
       "      <td>Product 6</td>\n",
       "      <td>Clothing</td>\n",
       "      <td>199.99</td>\n",
       "      <td>4.2</td>\n",
       "      <td>60</td>\n",
       "    </tr>\n",
       "  </tbody>\n",
       "</table>\n",
       "</div>"
      ],
      "text/plain": [
       "  product_name     product_type   price  customer_reviews  sold\n",
       "0    Product 1      Electronics  249.99               1.5    20\n",
       "1    Product 2  Home Appliances   99.99               2.8    30\n",
       "2    Product 3         Clothing   49.99               3.2    40\n",
       "3    Product 4      Electronics  799.99               4.9    50\n",
       "4    Product 5  Home Appliances  299.99               3.8    50\n",
       "5    Product 6         Clothing  199.99               4.2    60"
      ]
     },
     "execution_count": 2,
     "metadata": {},
     "output_type": "execute_result"
    }
   ],
   "source": [
    "product_data = [\n",
    "    {\n",
    "        'product_name': 'Product 1',\n",
    "        'product_type': 'Electronics',\n",
    "        'price': 249.99,\n",
    "        'customer_reviews': 1.5,\n",
    "        'sold':20\n",
    "    },\n",
    "    {\n",
    "        'product_name': 'Product 2',\n",
    "        'product_type': 'Home Appliances',\n",
    "        'price': 99.99,\n",
    "        'customer_reviews': 2.8,\n",
    "        'sold':30\n",
    "    },\n",
    "    \n",
    "    {\n",
    "        'product_name': 'Product 3',\n",
    "        'product_type': 'Clothing',\n",
    "        'price': 49.99,\n",
    "        'customer_reviews': 3.2,\n",
    "        'sold':40\n",
    "    },\n",
    "    {\n",
    "        'product_name': 'Product 4',\n",
    "        'product_type': 'Electronics',\n",
    "        'price': 799.99,\n",
    "        'customer_reviews': 4.9,\n",
    "        'sold':50\n",
    "    },\n",
    "    {\n",
    "        'product_name': 'Product 5',\n",
    "        'product_type': 'Home Appliances',\n",
    "        'price': 299.99,\n",
    "        'customer_reviews': 3.8,\n",
    "        'sold':50\n",
    "    },\n",
    "    {\n",
    "        'product_name': 'Product 6',\n",
    "        'product_type': 'Clothing',\n",
    "        'price': 199.99,\n",
    "        'customer_reviews': 4.2,\n",
    "        'sold':60\n",
    "    },\n",
    "]\n",
    "df=pd.DataFrame(product_data)\n",
    "df"
   ]
  },
  {
   "cell_type": "code",
   "execution_count": 3,
   "id": "726d73e3",
   "metadata": {},
   "outputs": [],
   "source": [
    "# filter by range of price\n",
    "def price():\n",
    "    minprice=float(input('enter min value'))\n",
    "    maxprice=float(input('enter max value'))\n",
    "    filtered= df[(df['price'].between(minprice,maxprice))]\n",
    "    print(filtered)\n",
    "    print('hot selling products ')\n",
    "    k=filtered['sold'].max()\n",
    "    da=filtered[(filtered['sold']==k)]\n",
    "    "
   ]
  },
  {
   "cell_type": "code",
   "execution_count": 4,
   "id": "6029d8fe",
   "metadata": {},
   "outputs": [],
   "source": [
    "# filter by rating\n",
    "def review():\n",
    "    review=float(input('enter rating value'))\n",
    "    #maxprice=float(input('enter max value'))\n",
    "    filtered= df[(df['customer_reviews']>review)]\n",
    "    print(filtered)\n",
    "    print('hot selling products ')\n",
    "    k=filtered['sold'].max()\n",
    "    da=filtered[(filtered['sold']==k)]\n",
    "    print(da)"
   ]
  },
  {
   "cell_type": "code",
   "execution_count": 5,
   "id": "eb4ffb72",
   "metadata": {},
   "outputs": [],
   "source": [
    "\n",
    "# filter by product_type\n",
    "def p_type():\n",
    "    print('Avilable product types:')\n",
    "    d=df['product_type'].unique()\n",
    "    for i in d:\n",
    "        print(i)\n",
    "    product_type=input('enter product type')\n",
    "\n",
    "    filtered= df[df['product_type']==product_type]\n",
    "    print(filtered)\n",
    "    print('hot selling products ')\n",
    "    k=filtered['sold'].max()\n",
    "    \n",
    "    da=filtered[(filtered['sold']==k)]"
   ]
  },
  {
   "cell_type": "code",
   "execution_count": 6,
   "id": "0c6085fe",
   "metadata": {},
   "outputs": [],
   "source": [
    "def Menu():\n",
    "    while True:\n",
    "        print(\"----------------------------------------------------------\")\n",
    "        print(\" Options available for checking:\")\n",
    "        print(\"1. price\")\n",
    "        print(\"2. rating\")\n",
    "        print(\"3. product type\")\n",
    "        print(\"9. Exit\")\n",
    "        print(\"----------------------------------------------------------\")\n",
    "        choice = input(\"Enter your choice: \")\n",
    "        if choice =='1':\n",
    "            price()\n",
    "        elif choice == \"2\":\n",
    "            review()\n",
    "        elif choice == \"3\":\n",
    "            p_type()\n",
    "        elif choice == \"9\":\n",
    "            print(\"Exit\")\n",
    "            break\n",
    "        else:\n",
    "            print(\"Invalid choice. Please try again.\")\n"
   ]
  },
  {
   "cell_type": "code",
   "execution_count": null,
   "id": "4bac7112",
   "metadata": {},
   "outputs": [
    {
     "name": "stdout",
     "output_type": "stream",
     "text": [
      "----------------------------------------------------------\n",
      " Options available for checking:\n",
      "1. price\n",
      "2. rating\n",
      "3. product type\n",
      "9. Exit\n",
      "----------------------------------------------------------\n",
      "Enter your choice: 1\n"
     ]
    }
   ],
   "source": [
    "Menu()"
   ]
  },
  {
   "cell_type": "code",
   "execution_count": null,
   "id": "38bbf87c",
   "metadata": {},
   "outputs": [],
   "source": []
  },
  {
   "cell_type": "code",
   "execution_count": null,
   "id": "64d8a0d6",
   "metadata": {},
   "outputs": [],
   "source": []
  },
  {
   "cell_type": "code",
   "execution_count": null,
   "id": "e9e62e9a",
   "metadata": {},
   "outputs": [],
   "source": []
  },
  {
   "cell_type": "code",
   "execution_count": null,
   "id": "f309f624",
   "metadata": {},
   "outputs": [],
   "source": []
  },
  {
   "cell_type": "code",
   "execution_count": null,
   "id": "2afc5baf",
   "metadata": {},
   "outputs": [],
   "source": []
  },
  {
   "cell_type": "code",
   "execution_count": null,
   "id": "9ebb354f",
   "metadata": {},
   "outputs": [],
   "source": []
  },
  {
   "cell_type": "code",
   "execution_count": null,
   "id": "c04ea80d",
   "metadata": {},
   "outputs": [],
   "source": []
  },
  {
   "cell_type": "code",
   "execution_count": null,
   "id": "39b4926e",
   "metadata": {},
   "outputs": [],
   "source": []
  },
  {
   "cell_type": "code",
   "execution_count": null,
   "id": "97a615cc",
   "metadata": {},
   "outputs": [],
   "source": []
  },
  {
   "cell_type": "code",
   "execution_count": null,
   "id": "c123423e",
   "metadata": {},
   "outputs": [],
   "source": []
  },
  {
   "cell_type": "code",
   "execution_count": null,
   "id": "51382f8f",
   "metadata": {},
   "outputs": [],
   "source": []
  },
  {
   "cell_type": "code",
   "execution_count": null,
   "id": "ac9f3350",
   "metadata": {},
   "outputs": [],
   "source": []
  },
  {
   "cell_type": "code",
   "execution_count": null,
   "id": "929b3247",
   "metadata": {},
   "outputs": [],
   "source": []
  }
 ],
 "metadata": {
  "kernelspec": {
   "display_name": "Python 3 (ipykernel)",
   "language": "python",
   "name": "python3"
  },
  "language_info": {
   "codemirror_mode": {
    "name": "ipython",
    "version": 3
   },
   "file_extension": ".py",
   "mimetype": "text/x-python",
   "name": "python",
   "nbconvert_exporter": "python",
   "pygments_lexer": "ipython3",
   "version": "3.10.9"
  }
 },
 "nbformat": 4,
 "nbformat_minor": 5
}
