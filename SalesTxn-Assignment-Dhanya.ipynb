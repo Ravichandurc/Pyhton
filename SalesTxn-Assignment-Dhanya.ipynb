{
 "cells": [
  {
   "cell_type": "code",
   "execution_count": 1,
   "metadata": {},
   "outputs": [],
   "source": [
    "import pandas as pd"
   ]
  },
  {
   "cell_type": "code",
   "execution_count": 2,
   "metadata": {},
   "outputs": [
    {
     "name": "stderr",
     "output_type": "stream",
     "text": [
      "/home/cloudera/anaconda3/lib/python3.7/site-packages/pyspark/context.py:317: FutureWarning: Python 3.7 support is deprecated in Spark 3.4.\n",
      "  warnings.warn(\"Python 3.7 support is deprecated in Spark 3.4.\", FutureWarning)\n"
     ]
    }
   ],
   "source": [
    "import os\n",
    "os.environ['JAVA_HOME']=\"/usr/java/jre1.8.0-x64\"\n",
    "\n",
    "from pyspark import SparkContext\n",
    "sc=SparkContext.getOrCreate()"
   ]
  },
  {
   "cell_type": "code",
   "execution_count": 8,
   "metadata": {},
   "outputs": [
    {
     "data": {
      "text/html": [
       "\n",
       "        <div>\n",
       "            <p><b>SparkContext</b></p>\n",
       "\n",
       "            <p><a href=\"http://quickstart.cloudera:4041\">Spark UI</a></p>\n",
       "\n",
       "            <dl>\n",
       "              <dt>Version</dt>\n",
       "                <dd><code>v3.4.1</code></dd>\n",
       "              <dt>Master</dt>\n",
       "                <dd><code>local[*]</code></dd>\n",
       "              <dt>AppName</dt>\n",
       "                <dd><code>pyspark-shell</code></dd>\n",
       "            </dl>\n",
       "        </div>\n",
       "        "
      ],
      "text/plain": [
       "<SparkContext master=local[*] appName=pyspark-shell>"
      ]
     },
     "execution_count": 8,
     "metadata": {},
     "output_type": "execute_result"
    }
   ],
   "source": [
    "sc"
   ]
  },
  {
   "cell_type": "code",
   "execution_count": 6,
   "metadata": {},
   "outputs": [],
   "source": [
    "file_path = 'salestxns.tsv'\n",
    "\n",
    "# Define custom column names\n",
    "column_names = ['Txn Id',\n",
    "'Category Id',\n",
    "'Category Name',\n",
    "'Product Id',\n",
    "'Product Name', \n",
    "'Price',\n",
    "'Quantity',\n",
    "'Customer Id']\n",
    "\n",
    "# Read the CSV file with custom separator and column names\n",
    "df = pd.read_csv(file_path, sep='\\t', names=column_names)"
   ]
  },
  {
   "cell_type": "code",
   "execution_count": 9,
   "metadata": {},
   "outputs": [],
   "source": [
    "data=sc.parallelize(df, numSlices=2)"
   ]
  },
  {
   "cell_type": "code",
   "execution_count": 10,
   "metadata": {},
   "outputs": [
    {
     "data": {
      "text/plain": [
       "['Txn Id', 'Category Id']"
      ]
     },
     "execution_count": 10,
     "metadata": {},
     "output_type": "execute_result"
    }
   ],
   "source": [
    "data.take(2)"
   ]
  },
  {
   "cell_type": "code",
   "execution_count": 11,
   "metadata": {},
   "outputs": [],
   "source": [
    "from pyspark.sql import SparkSession"
   ]
  },
  {
   "cell_type": "code",
   "execution_count": 13,
   "metadata": {},
   "outputs": [],
   "source": [
    "spark=SparkSession.builder.appName(\"Pandastordd\").getOrCreate()"
   ]
  },
  {
   "cell_type": "code",
   "execution_count": 14,
   "metadata": {},
   "outputs": [],
   "source": [
    "rdd=spark.sparkContext.parallelize(df.values)"
   ]
  },
  {
   "cell_type": "code",
   "execution_count": 15,
   "metadata": {},
   "outputs": [
    {
     "data": {
      "text/plain": [
       "[array([1, 43, 'Camping & Hiking', 957,\n",
       "        \"Diamondback Women's Serene Classic Comfort Bi\", 299.98, 1, 11599],\n",
       "       dtype=object),\n",
       " array([2, 48, 'Water Sports', 1073, 'Pelican Sunstream 100 Kayak', 199.99,\n",
       "        1, 256], dtype=object),\n",
       " array([3, 24, \"Women's Apparel\", 502,\n",
       "        \"Nike Men's Dri-FIT Victory Golf Polo\", 50.0, 5, 256], dtype=object),\n",
       " array([4, 18, \"Men's Footwear\", 403,\n",
       "        \"Nike Men's CJ Elite 2 TD Football Cleat\", 129.99, 1, 256],\n",
       "       dtype=object),\n",
       " array([5, 40, 'Accessories', 897,\n",
       "        'Team Golf New England Patriots Putter Grip', 24.99, 2, 8827],\n",
       "       dtype=object)]"
      ]
     },
     "execution_count": 15,
     "metadata": {},
     "output_type": "execute_result"
    }
   ],
   "source": [
    "rdd.take(5)"
   ]
  },
  {
   "cell_type": "markdown",
   "metadata": {},
   "source": [
    "### Load Data as RDD"
   ]
  },
  {
   "cell_type": "code",
   "execution_count": 16,
   "metadata": {},
   "outputs": [],
   "source": [
    "rdd_c = spark.sparkContext.textFile('salestxns.tsv')"
   ]
  },
  {
   "cell_type": "code",
   "execution_count": 17,
   "metadata": {},
   "outputs": [],
   "source": [
    "# Split each line by tab to create a list of values\n",
    "rdd_split = rdd_c.map(lambda line: line.split('\\t'))"
   ]
  },
  {
   "cell_type": "code",
   "execution_count": 20,
   "metadata": {},
   "outputs": [],
   "source": [
    "header = rdd_split.first()\n",
    "rdd_data = rdd_split.filter(lambda row: row != header)"
   ]
  },
  {
   "cell_type": "code",
   "execution_count": 55,
   "metadata": {},
   "outputs": [
    {
     "data": {
      "text/plain": [
       "salestxns.tsv MapPartitionsRDD[6] at textFile at NativeMethodAccessorImpl.java:0"
      ]
     },
     "execution_count": 55,
     "metadata": {},
     "output_type": "execute_result"
    }
   ],
   "source": [
    "rdd_c"
   ]
  },
  {
   "cell_type": "code",
   "execution_count": 22,
   "metadata": {
    "scrolled": true
   },
   "outputs": [
    {
     "data": {
      "text/plain": [
       "[\"1\\t43\\tCamping & Hiking\\t957\\tDiamondback Women's Serene Classic Comfort Bi\\t299.98\\t1\\t11599\",\n",
       " '2\\t48\\tWater Sports\\t1073\\tPelican Sunstream 100 Kayak\\t199.99\\t1\\t256',\n",
       " \"3\\t24\\tWomen's Apparel\\t502\\tNike Men's Dri-FIT Victory Golf Polo\\t50\\t5\\t256\",\n",
       " \"4\\t18\\tMen's Footwear\\t403\\tNike Men's CJ Elite 2 TD Football Cleat\\t129.99\\t1\\t256\",\n",
       " '5\\t40\\tAccessories\\t897\\tTeam Golf New England Patriots Putter Grip\\t24.99\\t2\\t8827',\n",
       " '6\\t17\\tCleats\\t365\\tPerfect Fitness Perfect Rip Deck\\t59.99\\t5\\t8827',\n",
       " \"7\\t24\\tWomen's Apparel\\t502\\tNike Men's Dri-FIT Victory Golf Polo\\t50\\t3\\t8827\",\n",
       " \"8\\t46\\tIndoor/Outdoor Games\\t1014\\tO'Brien Men's Neoprene Life Vest\\t49.98\\t4\\t8827\",\n",
       " \"9\\t43\\tCamping & Hiking\\t957\\tDiamondback Women's Serene Classic Comfort Bi\\t299.98\\t1\\t11318\",\n",
       " '10\\t17\\tCleats\\t365\\tPerfect Fitness Perfect Rip Deck\\t59.99\\t5\\t11318',\n",
       " \"11\\t46\\tIndoor/Outdoor Games\\t1014\\tO'Brien Men's Neoprene Life Vest\\t49.98\\t2\\t11318\",\n",
       " \"12\\t43\\tCamping & Hiking\\t957\\tDiamondback Women's Serene Classic Comfort Bi\\t299.98\\t1\\t11318\",\n",
       " \"13\\t18\\tMen's Footwear\\t403\\tNike Men's CJ Elite 2 TD Football Cleat\\t129.99\\t1\\t11318\",\n",
       " '14\\t48\\tWater Sports\\t1073\\tPelican Sunstream 100 Kayak\\t199.99\\t1\\t4530',\n",
       " \"15\\t43\\tCamping & Hiking\\t957\\tDiamondback Women's Serene Classic Comfort Bi\\t299.98\\t1\\t4530\",\n",
       " '16\\t41\\tTrade-In\\t926\\tGlove It Imperial Golf Towel\\t15.99\\t5\\t4530',\n",
       " '17\\t17\\tCleats\\t365\\tPerfect Fitness Perfect Rip Deck\\t59.99\\t3\\t2911',\n",
       " '18\\t17\\tCleats\\t365\\tPerfect Fitness Perfect Rip Deck\\t59.99\\t5\\t2911',\n",
       " \"19\\t46\\tIndoor/Outdoor Games\\t1014\\tO'Brien Men's Neoprene Life Vest\\t49.98\\t4\\t2911\",\n",
       " \"20\\t24\\tWomen's Apparel\\t502\\tNike Men's Dri-FIT Victory Golf Polo\\t50\\t1\\t2911\"]"
      ]
     },
     "execution_count": 22,
     "metadata": {},
     "output_type": "execute_result"
    }
   ],
   "source": [
    "rdd_c.take(20)"
   ]
  },
  {
   "cell_type": "raw",
   "metadata": {},
   "source": [
    "Column indexes:\n",
    "\n",
    "Txn Id 0\n",
    "Category Id 1\n",
    "Category Name 2\n",
    "Product Id 3\n",
    "Product Name 4\n",
    "Price 5\n",
    "Quantity 6\n",
    "Customer Id 7"
   ]
  },
  {
   "cell_type": "markdown",
   "metadata": {},
   "source": [
    "### Find out the average sales in each category"
   ]
  },
  {
   "cell_type": "code",
   "execution_count": 23,
   "metadata": {},
   "outputs": [],
   "source": [
    "# Assuming 'Price' is in column index 5 and 'Category Name' is in column index 2\n",
    "category_sales = rdd_data.map(lambda row: (row[2], float(row[5])))\n",
    "average_sales_by_category = category_sales.groupByKey().mapValues(lambda values: sum(values) / len(values))"
   ]
  },
  {
   "cell_type": "code",
   "execution_count": 25,
   "metadata": {
    "scrolled": true
   },
   "outputs": [
    {
     "data": {
      "text/plain": [
       "[('Water Sports', 200.37610038616728),\n",
       " (\"Women's Apparel\", 50.0),\n",
       " (\"Men's Footwear\", 129.9900000000552),\n",
       " ('Accessories', 24.98999999999998),\n",
       " ('Cleats', 60.341920492028706)]"
      ]
     },
     "execution_count": 25,
     "metadata": {},
     "output_type": "execute_result"
    }
   ],
   "source": [
    "average_sales_by_category.take(5)"
   ]
  },
  {
   "cell_type": "markdown",
   "metadata": {},
   "source": [
    "### Find out the customer who  maximum & minimum spends"
   ]
  },
  {
   "cell_type": "code",
   "execution_count": 75,
   "metadata": {},
   "outputs": [],
   "source": [
    "customer_spends = rdd_data.map(lambda row: (row[7], float(row[5])))\n",
    "max_spend = customer_spends.groupByKey().mapValues(lambda x: sum(x))\n",
    "min_spend = customer_spends.groupByKey().mapValues(lambda x: sum(x))"
   ]
  },
  {
   "cell_type": "code",
   "execution_count": 73,
   "metadata": {},
   "outputs": [
    {
     "data": {
      "text/plain": [
       "('791', 7736.4599999999955)"
      ]
     },
     "execution_count": 73,
     "metadata": {},
     "output_type": "execute_result"
    }
   ],
   "source": [
    "max_spend.max(key=lambda x:x[1])"
   ]
  },
  {
   "cell_type": "code",
   "execution_count": 69,
   "metadata": {},
   "outputs": [],
   "source": [
    "#customer_with_max_spend = max_spend.first()\n",
    "#customer_with_max_spend "
   ]
  },
  {
   "cell_type": "code",
   "execution_count": 70,
   "metadata": {},
   "outputs": [],
   "source": [
    "#customer_with_min_spend = min_spend.first()\n",
    "#customer_with_min_spend"
   ]
  },
  {
   "cell_type": "code",
   "execution_count": 74,
   "metadata": {},
   "outputs": [
    {
     "data": {
      "text/plain": [
       "('7091', 9.99)"
      ]
     },
     "execution_count": 74,
     "metadata": {},
     "output_type": "execute_result"
    }
   ],
   "source": [
    "min_spend.min(key=lambda x:x[1])"
   ]
  },
  {
   "cell_type": "markdown",
   "metadata": {},
   "source": [
    "### Most selling category/product\n",
    "### Least selling category/product"
   ]
  },
  {
   "cell_type": "code",
   "execution_count": 76,
   "metadata": {},
   "outputs": [],
   "source": [
    "category_sales = rdd_data.map(lambda row: (row[2], int(row[6])))\n",
    "product_sales = rdd_data.map(lambda row: (row[4], int(row[6])))\n",
    "max_cat = category_sales.groupByKey().mapValues(lambda x: sum(x))\n",
    "min_cat= category_sales.groupByKey().mapValues(lambda x: sum(x))\n",
    "max_prod = product_sales.groupByKey().mapValues(lambda x: sum(x))\n",
    "min_prod= product_sales.groupByKey().mapValues(lambda x: sum(x))"
   ]
  },
  {
   "cell_type": "code",
   "execution_count": 77,
   "metadata": {},
   "outputs": [
    {
     "data": {
      "text/plain": [
       "('Cleats', 73734)"
      ]
     },
     "execution_count": 77,
     "metadata": {},
     "output_type": "execute_result"
    }
   ],
   "source": [
    "max_cat.max(key=lambda x:x[1])"
   ]
  },
  {
   "cell_type": "code",
   "execution_count": 79,
   "metadata": {},
   "outputs": [
    {
     "data": {
      "text/plain": [
       "('Golf Bags & Carts', 61)"
      ]
     },
     "execution_count": 79,
     "metadata": {},
     "output_type": "execute_result"
    }
   ],
   "source": [
    "min_cat.min(key=lambda x:x[1])"
   ]
  },
  {
   "cell_type": "code",
   "execution_count": 80,
   "metadata": {},
   "outputs": [
    {
     "data": {
      "text/plain": [
       "('Perfect Fitness Perfect Rip Deck', 73698)"
      ]
     },
     "execution_count": 80,
     "metadata": {},
     "output_type": "execute_result"
    }
   ],
   "source": [
    "max_prod.max(key=lambda x:x[1])"
   ]
  },
  {
   "cell_type": "code",
   "execution_count": 81,
   "metadata": {},
   "outputs": [
    {
     "data": {
      "text/plain": [
       "('Bowflex SelectTech 1090 Dumbbells', 10)"
      ]
     },
     "execution_count": 81,
     "metadata": {},
     "output_type": "execute_result"
    }
   ],
   "source": [
    "min_prod.min(key=lambda x:x[1])"
   ]
  },
  {
   "cell_type": "code",
   "execution_count": null,
   "metadata": {},
   "outputs": [],
   "source": []
  }
 ],
 "metadata": {
  "kernelspec": {
   "display_name": "Python 3 (ipykernel)",
   "language": "python",
   "name": "python3"
  },
  "language_info": {
   "codemirror_mode": {
    "name": "ipython",
    "version": 3
   },
   "file_extension": ".py",
   "mimetype": "text/x-python",
   "name": "python",
   "nbconvert_exporter": "python",
   "pygments_lexer": "ipython3",
   "version": "3.10.9"
  }
 },
 "nbformat": 4,
 "nbformat_minor": 2
}
