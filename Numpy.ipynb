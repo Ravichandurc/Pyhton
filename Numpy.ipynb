{
 "cells": [
  {
   "cell_type": "markdown",
   "id": "52d38bce",
   "metadata": {},
   "source": [
    "# Numpy"
   ]
  },
  {
   "cell_type": "code",
   "execution_count": 2,
   "id": "8c88733b",
   "metadata": {},
   "outputs": [
    {
     "name": "stdout",
     "output_type": "stream",
     "text": [
      "[1.  2.  3.  5.1]\n"
     ]
    }
   ],
   "source": [
    "import numpy as np\n",
    "k=np.array([1,2,3,5.1])\n",
    "print(k)"
   ]
  },
  {
   "cell_type": "code",
   "execution_count": 232,
   "id": "d52f9ae7",
   "metadata": {},
   "outputs": [
    {
     "name": "stdout",
     "output_type": "stream",
     "text": [
      "float64\n"
     ]
    }
   ],
   "source": [
    "arr = k.astype('float64')\n",
    "print(arr.dtype)"
   ]
  },
  {
   "cell_type": "code",
   "execution_count": 215,
   "id": "cba23afe",
   "metadata": {},
   "outputs": [
    {
     "name": "stdout",
     "output_type": "stream",
     "text": [
      "[1. 2. 3.]\n"
     ]
    }
   ],
   "source": [
    "k=np.array([1,2,3],float)\n",
    "print(k)"
   ]
  },
  {
   "cell_type": "code",
   "execution_count": 7,
   "id": "ed35d71b",
   "metadata": {},
   "outputs": [
    {
     "name": "stdout",
     "output_type": "stream",
     "text": [
      "8\n",
      "float64\n",
      "float64\n"
     ]
    }
   ],
   "source": [
    "k=np.array([1,2,3],float)\n",
    "print(k.itemsize)\n",
    "print(k.dtype)\n",
    "\n",
    "print(k.dtype)"
   ]
  },
  {
   "cell_type": "code",
   "execution_count": null,
   "id": "88f0e398",
   "metadata": {},
   "outputs": [],
   "source": [
    "t=np.zeros(6)\n",
    "print(t)"
   ]
  },
  {
   "cell_type": "code",
   "execution_count": null,
   "id": "7eafb22e",
   "metadata": {},
   "outputs": [],
   "source": [
    "t=np.zeros((2,2))\n",
    "print(t)"
   ]
  },
  {
   "cell_type": "code",
   "execution_count": null,
   "id": "2324c73a",
   "metadata": {},
   "outputs": [],
   "source": [
    "a=np.ones(6)\n",
    "print(a)"
   ]
  },
  {
   "cell_type": "code",
   "execution_count": 210,
   "id": "206c75cb",
   "metadata": {},
   "outputs": [
    {
     "name": "stdout",
     "output_type": "stream",
     "text": [
      "[[1 1 1]\n",
      " [1 1 1]\n",
      " [1 1 1]]\n"
     ]
    }
   ],
   "source": [
    "a=np.ones((3,3),int)\n",
    "print(a)"
   ]
  },
  {
   "cell_type": "code",
   "execution_count": null,
   "id": "e1b9d73d",
   "metadata": {},
   "outputs": [],
   "source": []
  },
  {
   "cell_type": "code",
   "execution_count": 211,
   "id": "485c6680",
   "metadata": {},
   "outputs": [
    {
     "data": {
      "text/plain": [
       "array([[5, 5, 5],\n",
       "       [5, 5, 5]])"
      ]
     },
     "execution_count": 211,
     "metadata": {},
     "output_type": "execute_result"
    }
   ],
   "source": [
    "arrayf=np.full((2,3),5)\n",
    "arrayf"
   ]
  },
  {
   "cell_type": "code",
   "execution_count": 4,
   "id": "1d1bad09",
   "metadata": {},
   "outputs": [
    {
     "name": "stdout",
     "output_type": "stream",
     "text": [
      "[6.   6.75 7.5  8.25 9.  ]\n"
     ]
    }
   ],
   "source": [
    "b=np.linspace(6,9,5)\n",
    "print(b)"
   ]
  },
  {
   "cell_type": "code",
   "execution_count": 3,
   "id": "399b3e06",
   "metadata": {},
   "outputs": [
    {
     "name": "stdout",
     "output_type": "stream",
     "text": [
      "[1.00000000e+06 5.62341325e+06 3.16227766e+07 1.77827941e+08\n",
      " 1.00000000e+09]\n"
     ]
    }
   ],
   "source": [
    "b=np.logspace(6,9,5)\n",
    "print(b)"
   ]
  },
  {
   "cell_type": "code",
   "execution_count": 5,
   "id": "7d386291",
   "metadata": {},
   "outputs": [
    {
     "name": "stdout",
     "output_type": "stream",
     "text": [
      "[ 1  4  7 10 13 16 19]\n"
     ]
    }
   ],
   "source": [
    "c=np.arange(1,20,3)\n",
    "print(c)"
   ]
  },
  {
   "cell_type": "code",
   "execution_count": null,
   "id": "8b5d11dc",
   "metadata": {},
   "outputs": [],
   "source": [
    "# create a array with 2 rows and 3 columns\n",
    "array=np.array([[1,2,3,],[4,5,6]])\n",
    "array"
   ]
  },
  {
   "cell_type": "code",
   "execution_count": 217,
   "id": "1362099f",
   "metadata": {},
   "outputs": [
    {
     "data": {
      "text/plain": [
       "2"
      ]
     },
     "execution_count": 217,
     "metadata": {},
     "output_type": "execute_result"
    }
   ],
   "source": [
    "array.ndim"
   ]
  },
  {
   "cell_type": "code",
   "execution_count": null,
   "id": "fd19f113",
   "metadata": {},
   "outputs": [],
   "source": [
    "array1=np.array([[[1,2],[3,4]],[[4,5],[6,7]]])\n",
    "array1.ndim"
   ]
  },
  {
   "cell_type": "code",
   "execution_count": 216,
   "id": "583ce402",
   "metadata": {},
   "outputs": [
    {
     "data": {
      "text/plain": [
       "array([[1.+0.j, 2.+0.j, 3.+0.j],\n",
       "       [4.+0.j, 5.+0.j, 6.+0.j]])"
      ]
     },
     "execution_count": 216,
     "metadata": {},
     "output_type": "execute_result"
    }
   ],
   "source": [
    "arraycomplex=np.array([[1,2,3],[4,5,6]],complex)\n",
    "arraycomplex"
   ]
  },
  {
   "cell_type": "code",
   "execution_count": 218,
   "id": "4d8d832b",
   "metadata": {},
   "outputs": [
    {
     "data": {
      "text/plain": [
       "array([[0., 0., 0.],\n",
       "       [0., 0., 0.]])"
      ]
     },
     "execution_count": 218,
     "metadata": {},
     "output_type": "execute_result"
    }
   ],
   "source": [
    "array2=np.empty([2,3])\n",
    "array2"
   ]
  },
  {
   "cell_type": "code",
   "execution_count": 219,
   "id": "a312f2a9",
   "metadata": {},
   "outputs": [
    {
     "data": {
      "text/plain": [
       "array([[0.79032835, 0.07402793, 0.87899804, 0.97623583],\n",
       "       [0.46912498, 0.7013187 , 0.89499326, 0.41838621],\n",
       "       [0.26430849, 0.4598793 , 0.85873271, 0.27488878],\n",
       "       [0.19364074, 0.58152022, 0.59976914, 0.84105917]])"
      ]
     },
     "execution_count": 219,
     "metadata": {},
     "output_type": "execute_result"
    }
   ],
   "source": [
    "arrayr=np.random.random((4,4))\n",
    "arrayr"
   ]
  },
  {
   "cell_type": "code",
   "execution_count": 60,
   "id": "395af2b4",
   "metadata": {},
   "outputs": [
    {
     "data": {
      "text/plain": [
       "array([61, 83, 38,  4, 86,  2, 85, 80, 49, 74])"
      ]
     },
     "execution_count": 60,
     "metadata": {},
     "output_type": "execute_result"
    }
   ],
   "source": [
    "arrayr=np.random.randint(1,100,10)\n",
    "arrayr"
   ]
  },
  {
   "cell_type": "code",
   "execution_count": 242,
   "id": "41bc856f",
   "metadata": {},
   "outputs": [
    {
     "data": {
      "text/plain": [
       "array([3, 2, 3, 3, 3, 2, 1, 1, 2, 1])"
      ]
     },
     "execution_count": 242,
     "metadata": {},
     "output_type": "execute_result"
    }
   ],
   "source": [
    "arrayr=np.random.randint(1,4,10)\n",
    "arrayr"
   ]
  },
  {
   "cell_type": "code",
   "execution_count": 220,
   "id": "d04be473",
   "metadata": {},
   "outputs": [
    {
     "data": {
      "text/plain": [
       "array([[1., 0., 0.],\n",
       "       [0., 1., 0.],\n",
       "       [0., 0., 1.]])"
      ]
     },
     "execution_count": 220,
     "metadata": {},
     "output_type": "execute_result"
    }
   ],
   "source": [
    "## identity matrix\n",
    "\n",
    "\n",
    "arrayi=np.eye((3))\n",
    "arrayi"
   ]
  },
  {
   "cell_type": "code",
   "execution_count": 221,
   "id": "08428a30",
   "metadata": {},
   "outputs": [
    {
     "data": {
      "text/plain": [
       "array([[1., 0., 0., 0., 0.],\n",
       "       [0., 1., 0., 0., 0.],\n",
       "       [0., 0., 1., 0., 0.],\n",
       "       [0., 0., 0., 1., 0.],\n",
       "       [0., 0., 0., 0., 1.]])"
      ]
     },
     "execution_count": 221,
     "metadata": {},
     "output_type": "execute_result"
    }
   ],
   "source": [
    "## identity function\n",
    "arrayid=np.identity(5);arrayid\n"
   ]
  },
  {
   "cell_type": "code",
   "execution_count": null,
   "id": "5015fb89",
   "metadata": {},
   "outputs": [],
   "source": [
    "array=np.array([[[2,1,3,4],[2,1,5,6]],[[12,11,13,14],[22,21,25,26]],[[42,41,43,44],[72,71,75,76]]])\n",
    "array"
   ]
  },
  {
   "cell_type": "code",
   "execution_count": 222,
   "id": "be22841d",
   "metadata": {},
   "outputs": [
    {
     "data": {
      "text/plain": [
       "(8, 8)"
      ]
     },
     "execution_count": 222,
     "metadata": {},
     "output_type": "execute_result"
    }
   ],
   "source": [
    "array.shape\n",
    "#3 subarray\n",
    "#2 row\n",
    "# 4 colum"
   ]
  },
  {
   "cell_type": "code",
   "execution_count": 244,
   "id": "b5d5db51",
   "metadata": {},
   "outputs": [
    {
     "ename": "ValueError",
     "evalue": "cannot reshape array of size 64 into shape (2,4,3)",
     "output_type": "error",
     "traceback": [
      "\u001b[1;31m---------------------------------------------------------------------------\u001b[0m",
      "\u001b[1;31mValueError\u001b[0m                                Traceback (most recent call last)",
      "Cell \u001b[1;32mIn[244], line 1\u001b[0m\n\u001b[1;32m----> 1\u001b[0m \u001b[43marray\u001b[49m\u001b[38;5;241;43m.\u001b[39;49m\u001b[43mreshape\u001b[49m\u001b[43m(\u001b[49m\u001b[38;5;241;43m2\u001b[39;49m\u001b[43m,\u001b[49m\u001b[38;5;241;43m4\u001b[39;49m\u001b[43m,\u001b[49m\u001b[38;5;241;43m3\u001b[39;49m\u001b[43m)\u001b[49m\n",
      "\u001b[1;31mValueError\u001b[0m: cannot reshape array of size 64 into shape (2,4,3)"
     ]
    }
   ],
   "source": [
    "array.reshape(2,4,3)"
   ]
  },
  {
   "cell_type": "code",
   "execution_count": 224,
   "id": "b058bc07",
   "metadata": {},
   "outputs": [
    {
     "data": {
      "text/plain": [
       "2"
      ]
     },
     "execution_count": 224,
     "metadata": {},
     "output_type": "execute_result"
    }
   ],
   "source": [
    "array.ndim"
   ]
  },
  {
   "cell_type": "code",
   "execution_count": null,
   "id": "305be8cb",
   "metadata": {},
   "outputs": [],
   "source": [
    "\n",
    "print(\"itemsize:\",array.itemsize)\n"
   ]
  },
  {
   "cell_type": "code",
   "execution_count": null,
   "id": "c6fef01e",
   "metadata": {},
   "outputs": [],
   "source": [
    "print(\"data type:\",array.dtype)\n"
   ]
  },
  {
   "cell_type": "code",
   "execution_count": null,
   "id": "240d1383",
   "metadata": {},
   "outputs": [],
   "source": [
    "print(\"data type:\",array.size)\n"
   ]
  },
  {
   "cell_type": "markdown",
   "id": "43ec788b",
   "metadata": {},
   "source": [
    "### Array operations"
   ]
  },
  {
   "cell_type": "code",
   "execution_count": null,
   "id": "10778815",
   "metadata": {},
   "outputs": [],
   "source": [
    "a=np.array([[1,2],[3,4]])\n",
    "b=np.array([[11,22],[33,44]])\n",
    "\n",
    "#adding\n",
    "print(a+b)\n",
    "print(np.add(a,b))"
   ]
  },
  {
   "cell_type": "code",
   "execution_count": null,
   "id": "85e2933a",
   "metadata": {},
   "outputs": [],
   "source": [
    "# subtract\n",
    "print(b-a)\n",
    "print(np.subtract(b,a))\n"
   ]
  },
  {
   "cell_type": "code",
   "execution_count": null,
   "id": "31427148",
   "metadata": {},
   "outputs": [],
   "source": [
    "#multiply\n",
    "\n",
    "print(a*b)\n",
    "print(np.multiply(a,b))"
   ]
  },
  {
   "cell_type": "code",
   "execution_count": null,
   "id": "84ace760",
   "metadata": {},
   "outputs": [],
   "source": [
    "# didvide\n",
    "print(a/b)\n",
    "print(np.divide(a,b))"
   ]
  },
  {
   "cell_type": "code",
   "execution_count": null,
   "id": "62d6c85d",
   "metadata": {},
   "outputs": [],
   "source": [
    "# modulo\n",
    "print(a%b)\n",
    "#print(np.modulo(a,b))"
   ]
  },
  {
   "cell_type": "code",
   "execution_count": null,
   "id": "df19dd0d",
   "metadata": {},
   "outputs": [],
   "source": [
    "# raise every elemnt to power of 2\n",
    "print(a**2)\n",
    "#print(np.power(b,a))"
   ]
  },
  {
   "cell_type": "code",
   "execution_count": null,
   "id": "b7b3e61a",
   "metadata": {},
   "outputs": [],
   "source": [
    "#add 2 to evry element\n",
    "print(a+2)"
   ]
  },
  {
   "cell_type": "code",
   "execution_count": null,
   "id": "6cbc8a48",
   "metadata": {},
   "outputs": [],
   "source": [
    "# raise every elemnt to power of 3\n",
    "print(a**3)"
   ]
  },
  {
   "cell_type": "code",
   "execution_count": null,
   "id": "81af9307",
   "metadata": {},
   "outputs": [],
   "source": [
    "#a+=b is same as a=a+b\n",
    "a+=b\n",
    "print(a)"
   ]
  },
  {
   "cell_type": "code",
   "execution_count": null,
   "id": "5b6acab4",
   "metadata": {},
   "outputs": [],
   "source": [
    "#other operations exp(),sqrt()\n",
    "print(np.sqrt(a))\n",
    "print(np.power(a,2))"
   ]
  },
  {
   "cell_type": "markdown",
   "id": "a69f646b",
   "metadata": {},
   "source": [
    "### statistical operations"
   ]
  },
  {
   "cell_type": "code",
   "execution_count": 226,
   "id": "2c76a1c6",
   "metadata": {},
   "outputs": [
    {
     "data": {
      "text/plain": [
       "21"
      ]
     },
     "execution_count": 226,
     "metadata": {},
     "output_type": "execute_result"
    }
   ],
   "source": [
    "a=np.array([[1,2,3],[4,5,6]])\n",
    "np.sum(a)"
   ]
  },
  {
   "cell_type": "code",
   "execution_count": null,
   "id": "b3c73349",
   "metadata": {},
   "outputs": [],
   "source": [
    "print(a.min())\n",
    "print(a.max())\n",
    "print(a.max(axis=0))\n",
    "print(a.max(axis=1))\n",
    "print(a.cumsum(axis=0))"
   ]
  },
  {
   "cell_type": "code",
   "execution_count": null,
   "id": "78f97fef",
   "metadata": {},
   "outputs": [],
   "source": [
    "print(np.mean(a))\n",
    "print(np.median(a))\n",
    "print(np.corrcoef(a))# how each elelment is changing with respective ro other\n",
    "print(np.std(a1))\n",
    "print(np.count_nonzero(a==2))"
   ]
  },
  {
   "cell_type": "code",
   "execution_count": null,
   "id": "a08bb443",
   "metadata": {},
   "outputs": [],
   "source": []
  },
  {
   "cell_type": "code",
   "execution_count": 3,
   "id": "43304947",
   "metadata": {},
   "outputs": [
    {
     "data": {
      "text/plain": [
       "array([[176, 242, 341],\n",
       "       [330, 462, 649]])"
      ]
     },
     "execution_count": 3,
     "metadata": {},
     "output_type": "execute_result"
    }
   ],
   "source": [
    "a=np.array([[1,2,3],[3,4,5]])\n",
    "b=np.array([[11,22,33],[33,44,55],[33,44,66]])\n",
    "a@b"
   ]
  },
  {
   "cell_type": "code",
   "execution_count": null,
   "id": "4dd3fc52",
   "metadata": {},
   "outputs": [],
   "source": [
    "print(np.matmul(a,b))"
   ]
  },
  {
   "cell_type": "markdown",
   "id": "45a88704",
   "metadata": {},
   "source": [
    "### transpose\n"
   ]
  },
  {
   "cell_type": "code",
   "execution_count": 227,
   "id": "579605b5",
   "metadata": {},
   "outputs": [
    {
     "name": "stdout",
     "output_type": "stream",
     "text": [
      "[[1 4]\n",
      " [2 5]\n",
      " [3 6]]\n"
     ]
    }
   ],
   "source": [
    "print(np.transpose(a))"
   ]
  },
  {
   "cell_type": "code",
   "execution_count": 4,
   "id": "072753b7",
   "metadata": {},
   "outputs": [
    {
     "name": "stdout",
     "output_type": "stream",
     "text": [
      "5\n"
     ]
    }
   ],
   "source": [
    "import numpy as np\n",
    "# trace matrix\n",
    "print(np.trace(a))"
   ]
  },
  {
   "cell_type": "code",
   "execution_count": 229,
   "id": "c0a9ea80",
   "metadata": {},
   "outputs": [
    {
     "data": {
      "text/plain": [
       "array([[-2. ,  1. ],\n",
       "       [ 1.5, -0.5]])"
      ]
     },
     "execution_count": 229,
     "metadata": {},
     "output_type": "execute_result"
    }
   ],
   "source": [
    "# inverse matrix\n",
    "a=np.array([[1,2],[3,4]])\n",
    "b=np.linalg.inv(a)\n",
    "b"
   ]
  },
  {
   "cell_type": "markdown",
   "id": "72af1658",
   "metadata": {},
   "source": [
    "### Bitwise OPerations"
   ]
  },
  {
   "cell_type": "code",
   "execution_count": 13,
   "id": "fff84574",
   "metadata": {},
   "outputs": [
    {
     "name": "stdout",
     "output_type": "stream",
     "text": [
      "[[1 2 3 4]\n",
      " [2 7 8 1]]\n"
     ]
    }
   ],
   "source": [
    "a=np.array([[1,2,3,4],[6,7,8,9]])\n",
    "b=np.array([[11,23,43,44],[66,79,88,97]])\n",
    "print(np.bitwise_and(a,b))"
   ]
  },
  {
   "cell_type": "code",
   "execution_count": 14,
   "id": "bd3dcb12",
   "metadata": {},
   "outputs": [
    {
     "name": "stdout",
     "output_type": "stream",
     "text": [
      "[[ -2  -3  -4  -5]\n",
      " [ -7  -8  -9 -10]]\n"
     ]
    }
   ],
   "source": [
    "print(np.invert(a))"
   ]
  },
  {
   "cell_type": "markdown",
   "id": "9859984e",
   "metadata": {},
   "source": [
    "### Copying and sorting"
   ]
  },
  {
   "cell_type": "code",
   "execution_count": 14,
   "id": "a607a3b1",
   "metadata": {},
   "outputs": [
    {
     "name": "stdout",
     "output_type": "stream",
     "text": [
      "[[1 2 3]\n",
      " [4 5 6]]\n"
     ]
    }
   ],
   "source": [
    "a=np.array([[1,2,3],[4,5,6]])\n",
    "b=a\n",
    "print(b)# no copy"
   ]
  },
  {
   "cell_type": "code",
   "execution_count": null,
   "id": "fb21632c",
   "metadata": {},
   "outputs": [],
   "source": [
    "print(b is a)"
   ]
  },
  {
   "cell_type": "code",
   "execution_count": null,
   "id": "d5c1a41d",
   "metadata": {},
   "outputs": [],
   "source": [
    "#shallow copy it will effect the main array\n",
    "shaa=a.view()\n",
    "print(shaa)"
   ]
  },
  {
   "cell_type": "code",
   "execution_count": null,
   "id": "3665be77",
   "metadata": {},
   "outputs": [],
   "source": [
    "shaa+=1\n",
    "print(shaa)\n",
    "print(a)"
   ]
  },
  {
   "cell_type": "code",
   "execution_count": 7,
   "id": "2febc85c",
   "metadata": {},
   "outputs": [
    {
     "name": "stdout",
     "output_type": "stream",
     "text": [
      "[[ 3  4  5  6]\n",
      " [ 8  9 10 11]]\n",
      "[[1 2 3 4]\n",
      " [6 7 8 9]]\n"
     ]
    }
   ],
   "source": [
    "#deep copy it will not effect the main array\n",
    "deep=a.copy()\n",
    "deep+=2\n",
    "print(deep)\n",
    "print(a)"
   ]
  },
  {
   "cell_type": "code",
   "execution_count": 230,
   "id": "38f5f0e8",
   "metadata": {},
   "outputs": [
    {
     "data": {
      "text/plain": [
       "array([[1, 2],\n",
       "       [3, 4]])"
      ]
     },
     "execution_count": 230,
     "metadata": {},
     "output_type": "execute_result"
    }
   ],
   "source": [
    "a.sort();a\n"
   ]
  },
  {
   "cell_type": "code",
   "execution_count": 15,
   "id": "0137a825",
   "metadata": {},
   "outputs": [
    {
     "data": {
      "text/plain": [
       "array([[1, 2, 3],\n",
       "       [4, 5, 6]])"
      ]
     },
     "execution_count": 15,
     "metadata": {},
     "output_type": "execute_result"
    }
   ],
   "source": [
    "#colum sorting\n",
    "a.sort(axis=0);b"
   ]
  },
  {
   "cell_type": "markdown",
   "id": "558f55b9",
   "metadata": {},
   "source": [
    "### Comparison"
   ]
  },
  {
   "cell_type": "code",
   "execution_count": null,
   "id": "1f9754fc",
   "metadata": {},
   "outputs": [],
   "source": []
  },
  {
   "cell_type": "code",
   "execution_count": 18,
   "id": "508fd678",
   "metadata": {},
   "outputs": [],
   "source": [
    "ba=np.array([[3,3,7],[1,5,2]])"
   ]
  },
  {
   "cell_type": "code",
   "execution_count": 19,
   "id": "addc9635",
   "metadata": {
    "scrolled": true
   },
   "outputs": [
    {
     "name": "stdout",
     "output_type": "stream",
     "text": [
      "[[False False  True]\n",
      " [False False False]]\n"
     ]
    }
   ],
   "source": [
    "print(ba>5)"
   ]
  },
  {
   "cell_type": "code",
   "execution_count": 22,
   "id": "7f306868",
   "metadata": {},
   "outputs": [
    {
     "name": "stdout",
     "output_type": "stream",
     "text": [
      "[[False False False]\n",
      " [False False False]]\n"
     ]
    }
   ],
   "source": [
    "print(a<b)"
   ]
  },
  {
   "cell_type": "code",
   "execution_count": 27,
   "id": "76005de7",
   "metadata": {},
   "outputs": [
    {
     "name": "stdout",
     "output_type": "stream",
     "text": [
      "True\n"
     ]
    }
   ],
   "source": [
    "print(np.array_equal(a,b))\n"
   ]
  },
  {
   "cell_type": "markdown",
   "id": "463a0fc2",
   "metadata": {},
   "source": [
    "### Indexing and slicing"
   ]
  },
  {
   "cell_type": "code",
   "execution_count": 29,
   "id": "2b154cea",
   "metadata": {},
   "outputs": [
    {
     "data": {
      "text/plain": [
       "array([  3,   4, 556])"
      ]
     },
     "execution_count": 29,
     "metadata": {},
     "output_type": "execute_result"
    }
   ],
   "source": [
    "arr=np.array([1,2,3,4,556])\n",
    "arr[2:6]"
   ]
  },
  {
   "cell_type": "code",
   "execution_count": 33,
   "id": "6095f48f",
   "metadata": {},
   "outputs": [
    {
     "data": {
      "text/plain": [
       "array([[2, 3],\n",
       "       [5, 6]])"
      ]
     },
     "execution_count": 33,
     "metadata": {},
     "output_type": "execute_result"
    }
   ],
   "source": [
    "arr1=np.array([[1,2,3],[4,5,6]])\n",
    "arr1[:2,1:3]"
   ]
  },
  {
   "cell_type": "code",
   "execution_count": 38,
   "id": "d2c82de1",
   "metadata": {},
   "outputs": [
    {
     "name": "stdout",
     "output_type": "stream",
     "text": [
      "[1 2 3 4 5 6]\n"
     ]
    }
   ],
   "source": [
    "print(arr1.ravel())"
   ]
  },
  {
   "cell_type": "code",
   "execution_count": 34,
   "id": "d122ef87",
   "metadata": {},
   "outputs": [
    {
     "name": "stdout",
     "output_type": "stream",
     "text": [
      "[1 2 3 4 5 6]\n"
     ]
    }
   ],
   "source": [
    "print(arr1.flatten())\n"
   ]
  },
  {
   "cell_type": "code",
   "execution_count": 36,
   "id": "b173d1d0",
   "metadata": {},
   "outputs": [
    {
     "data": {
      "text/plain": [
       "array([  1,   2,   3,   4, 556,   1,   2,   3,   4,   5,   6])"
      ]
     },
     "execution_count": 36,
     "metadata": {},
     "output_type": "execute_result"
    }
   ],
   "source": [
    "np.append(arr,arr1)"
   ]
  },
  {
   "cell_type": "markdown",
   "id": "b16334af",
   "metadata": {},
   "source": [
    "### Splitting and stacking"
   ]
  },
  {
   "cell_type": "code",
   "execution_count": null,
   "id": "1f1ecaea",
   "metadata": {},
   "outputs": [],
   "source": []
  },
  {
   "cell_type": "code",
   "execution_count": 237,
   "id": "911c4ae7",
   "metadata": {},
   "outputs": [
    {
     "data": {
      "text/plain": [
       "array([ 0,  1,  2,  3,  4,  5,  6,  7,  8,  9, 10, 11, 12, 13, 14, 15, 16,\n",
       "       17, 18, 19, 20, 21, 22, 23])"
      ]
     },
     "execution_count": 237,
     "metadata": {},
     "output_type": "execute_result"
    }
   ],
   "source": [
    "data=np.arange(24)\n",
    "data"
   ]
  },
  {
   "cell_type": "code",
   "execution_count": 42,
   "id": "fa5365da",
   "metadata": {},
   "outputs": [],
   "source": [
    "d1=data.reshape(6,4)"
   ]
  },
  {
   "cell_type": "code",
   "execution_count": 43,
   "id": "56993fc3",
   "metadata": {},
   "outputs": [
    {
     "data": {
      "text/plain": [
       "[array([[ 0,  1,  2,  3],\n",
       "        [ 4,  5,  6,  7],\n",
       "        [ 8,  9, 10, 11]]),\n",
       " array([[12, 13, 14, 15],\n",
       "        [16, 17, 18, 19],\n",
       "        [20, 21, 22, 23]])]"
      ]
     },
     "execution_count": 43,
     "metadata": {},
     "output_type": "execute_result"
    }
   ],
   "source": [
    "#split horizontal\n",
    "data1=np.vsplit(d1,2);data1"
   ]
  },
  {
   "cell_type": "code",
   "execution_count": 50,
   "id": "cd53a1f4",
   "metadata": {},
   "outputs": [
    {
     "data": {
      "text/plain": [
       "[array([[ 0,  1],\n",
       "        [ 4,  5],\n",
       "        [ 8,  9],\n",
       "        [12, 13],\n",
       "        [16, 17],\n",
       "        [20, 21]]),\n",
       " array([[ 2,  3],\n",
       "        [ 6,  7],\n",
       "        [10, 11],\n",
       "        [14, 15],\n",
       "        [18, 19],\n",
       "        [22, 23]])]"
      ]
     },
     "execution_count": 50,
     "metadata": {},
     "output_type": "execute_result"
    }
   ],
   "source": [
    "data2=np.hsplit(d1,2);data2"
   ]
  },
  {
   "cell_type": "code",
   "execution_count": null,
   "id": "a68f94bd",
   "metadata": {},
   "outputs": [],
   "source": []
  },
  {
   "cell_type": "code",
   "execution_count": null,
   "id": "3f9d238f",
   "metadata": {},
   "outputs": [],
   "source": []
  },
  {
   "cell_type": "code",
   "execution_count": null,
   "id": "69842f17",
   "metadata": {},
   "outputs": [],
   "source": []
  },
  {
   "cell_type": "code",
   "execution_count": 45,
   "id": "380998d1",
   "metadata": {},
   "outputs": [
    {
     "data": {
      "text/plain": [
       "array([[ 0,  1],\n",
       "       [ 4,  5],\n",
       "       [ 8,  9],\n",
       "       [12, 13],\n",
       "       [16, 17],\n",
       "       [20, 21]])"
      ]
     },
     "execution_count": 45,
     "metadata": {},
     "output_type": "execute_result"
    }
   ],
   "source": [
    "# extracting the first split of data2\n",
    "data2[0]"
   ]
  },
  {
   "cell_type": "code",
   "execution_count": 53,
   "id": "fe463d5d",
   "metadata": {},
   "outputs": [
    {
     "data": {
      "text/plain": [
       "array([[1, 2, 3],\n",
       "       [4, 5, 6],\n",
       "       [1, 4, 3],\n",
       "       [4, 5, 6]])"
      ]
     },
     "execution_count": 53,
     "metadata": {},
     "output_type": "execute_result"
    }
   ],
   "source": [
    "arr1=np.array([[1,2,3],[4,5,6]])\n",
    "arr2=np.array([[1,4,3],[4,5,6]])\n",
    "k=np.vstack((arr1,arr2))\n",
    "k\n"
   ]
  },
  {
   "cell_type": "code",
   "execution_count": 54,
   "id": "9d7cda2a",
   "metadata": {},
   "outputs": [
    {
     "data": {
      "text/plain": [
       "array([[1, 2, 3, 1, 4, 3],\n",
       "       [4, 5, 6, 4, 5, 6]])"
      ]
     },
     "execution_count": 54,
     "metadata": {},
     "output_type": "execute_result"
    }
   ],
   "source": [
    "k=np.hstack((arr1,arr2))\n",
    "k"
   ]
  },
  {
   "cell_type": "code",
   "execution_count": 56,
   "id": "84072af5",
   "metadata": {},
   "outputs": [
    {
     "data": {
      "text/plain": [
       "array([  1,   2,   4, 556])"
      ]
     },
     "execution_count": 56,
     "metadata": {},
     "output_type": "execute_result"
    }
   ],
   "source": [
    "arr=np.array([1,2,3,4,556])\n",
    "ad1=np.delete(arr,2)\n",
    "ad1"
   ]
  },
  {
   "cell_type": "code",
   "execution_count": 59,
   "id": "585933c7",
   "metadata": {},
   "outputs": [
    {
     "data": {
      "text/plain": [
       "array([[1, 2],\n",
       "       [3, 4]])"
      ]
     },
     "execution_count": 59,
     "metadata": {},
     "output_type": "execute_result"
    }
   ],
   "source": [
    "arr=np.array([[1,2,3],[3,4,556]])\n",
    "\n",
    "ad1=np.delete(arr,2,axis=1)\n",
    "ad1"
   ]
  },
  {
   "cell_type": "markdown",
   "id": "ca67ea44",
   "metadata": {},
   "source": [
    "### Exercise"
   ]
  },
  {
   "cell_type": "raw",
   "id": "6dc2f171",
   "metadata": {},
   "source": [
    "1.\twrite a program that constructs a 3d array of dimensions 4X2X3.Initialize array to some values.\n",
    "Find maximum along each axis.\n",
    "4->sub array - axis 0\n",
    "2-> row in sub array -axis 1\n",
    "3-> columns  - axis -2\n"
   ]
  },
  {
   "cell_type": "code",
   "execution_count": 67,
   "id": "13ec2e97",
   "metadata": {},
   "outputs": [
    {
     "name": "stdout",
     "output_type": "stream",
     "text": [
      "Maximum along axis 0: [[19 20 21]\n",
      " [22 23 24]]\n",
      "Maximum along axis 1: [[ 4  5  6]\n",
      " [10 11 12]\n",
      " [16 17 18]\n",
      " [22 23 24]]\n",
      "Maximum along axis 2: [[ 3  6]\n",
      " [ 9 12]\n",
      " [15 18]\n",
      " [21 24]]\n"
     ]
    }
   ],
   "source": [
    "import numpy as np\n",
    "\n",
    "\n",
    "arr = np.array([\n",
    "    \n",
    "    [\n",
    "        [1, 2, 3], \n",
    "        [4, 5, 6]\n",
    "    ],\n",
    "    [\n",
    "        [7, 8, 9], \n",
    "        [10, 11, 12]\n",
    "    ],\n",
    "    [\n",
    "        [13, 14, 15],\n",
    "        [16, 17, 18]\n",
    "    ],\n",
    "    [\n",
    "        [19, 20, 21], \n",
    "        [22, 23, 24]\n",
    "    ]\n",
    "])\n",
    "max0 = np.max(arr, axis=0)\n",
    "max1 = np.max(arr, axis=1)\n",
    "max2 = np.max(arr, axis=2)\n",
    "print(\"Max  axis 0:\", max0)\n",
    "print(\"Max  axis 1:\", max1)\n",
    "print(\"Max  axis 2:\", max2)\n"
   ]
  },
  {
   "cell_type": "raw",
   "id": "72c40673",
   "metadata": {},
   "source": [
    "\n",
    "2.\twrite a program that does following:\n",
    "(a)\t    create a array array1 of size 10 with element of it set to value of 5\n",
    "(b)\t    find the memory-size of this array and its individual element\n",
    "(c)\t    create a array array2 of size 10 with values ranging from 0 to 90 evenly spaced.\n",
    "(d)\t    Reverse elements of array2\n",
    "(e)\t    add arrays array1 and array2 and save result in array3\n"
   ]
  },
  {
   "cell_type": "code",
   "execution_count": 16,
   "id": "0e159a01",
   "metadata": {},
   "outputs": [
    {
     "name": "stdout",
     "output_type": "stream",
     "text": [
      "[5 5 5 5 5 5 5 5 5 5]\n",
      "4\n",
      "40\n",
      "10\n",
      "[90 80 70 60 50 40 30 20 10  0]\n",
      "[ 5 15 25 35 45 55 65 75 85 95]\n"
     ]
    }
   ],
   "source": [
    "array1 = np.full(10,5)\n",
    "print(array1)\n",
    "#b\n",
    "print(array1.itemsize)\n",
    "print(array1.size*array1.itemsize)\n",
    "\n",
    "#c\n",
    "array2=np.arange(0,91,10)\n",
    "print(array2.size)\n",
    "#d\n",
    "print(np.flip(array2))\n",
    "#e\n",
    "print(array1+array2)\n",
    "\n"
   ]
  },
  {
   "cell_type": "code",
   "execution_count": 31,
   "id": "e38aefed",
   "metadata": {},
   "outputs": [
    {
     "data": {
      "text/plain": [
       "array([90, 80, 70, 60, 50, 40, 30, 20, 10,  0])"
      ]
     },
     "execution_count": 31,
     "metadata": {},
     "output_type": "execute_result"
    }
   ],
   "source": [
    "np.sort(array2)[::-1]"
   ]
  },
  {
   "cell_type": "code",
   "execution_count": null,
   "id": "846e1ce3",
   "metadata": {},
   "outputs": [],
   "source": []
  },
  {
   "cell_type": "code",
   "execution_count": null,
   "id": "8cbc5733",
   "metadata": {},
   "outputs": [],
   "source": []
  },
  {
   "cell_type": "code",
   "execution_count": null,
   "id": "5a8d6aff",
   "metadata": {},
   "outputs": [],
   "source": []
  },
  {
   "cell_type": "code",
   "execution_count": null,
   "id": "7e1cb5cf",
   "metadata": {},
   "outputs": [],
   "source": []
  },
  {
   "cell_type": "raw",
   "id": "d52188e9",
   "metadata": {},
   "source": [
    "3.\tcreate a 8 X 8 array and fill it with chessboard pattern:\n",
    "Expected Output:\n",
    "10101010\n",
    "01010101\n",
    "10101010\n",
    "01010101\n",
    "10101010\n",
    "01010101\n",
    "10101010\n",
    "01010101\n"
   ]
  },
  {
   "cell_type": "code",
   "execution_count": 201,
   "id": "b2095842",
   "metadata": {},
   "outputs": [
    {
     "name": "stdout",
     "output_type": "stream",
     "text": [
      "10101010\n",
      "01010101\n",
      "10101010\n",
      "01010101\n",
      "10101010\n",
      "01010101\n",
      "10101010\n",
      "01010101\n"
     ]
    }
   ],
   "source": [
    "array=np.zeros((8, 8), dtype=int)\n",
    "k=1\n",
    "temp=0\n",
    "for i in array:\n",
    "    temp=temp+1\n",
    "    count=0\n",
    "    for j in i:\n",
    "        if(temp%2==0):\n",
    "            if(count%2==0):\n",
    "                print(j,end='')\n",
    "                count=count+1\n",
    "            else:\n",
    "                count=count+1\n",
    "                print(k,end='')\n",
    "        else:\n",
    "            if(count%2==0):\n",
    "                count=count+1\n",
    "                print(k,end='')\n",
    "            else:\n",
    "                print(j,end='')\n",
    "                count=count+1\n",
    "            \n",
    "    print()\n",
    "        \n",
    "#print(array)"
   ]
  },
  {
   "cell_type": "code",
   "execution_count": 7,
   "id": "e7d031b5",
   "metadata": {},
   "outputs": [
    {
     "name": "stdout",
     "output_type": "stream",
     "text": [
      "[[1 0 1 0 1 0 1 0]\n",
      " [0 1 0 1 0 1 0 1]\n",
      " [1 0 1 0 1 0 1 0]\n",
      " [0 1 0 1 0 1 0 1]\n",
      " [1 0 1 0 1 0 1 0]\n",
      " [0 1 0 1 0 1 0 1]\n",
      " [1 0 1 0 1 0 1 0]\n",
      " [0 1 0 1 0 1 0 1]]\n"
     ]
    }
   ],
   "source": [
    "array=np.zeros((8, 8), dtype=int)\n",
    "array[::2, ::2]=1\n",
    "array[1::2,1::2]=1\n",
    "print(array)"
   ]
  },
  {
   "cell_type": "code",
   "execution_count": null,
   "id": "6bc21b09",
   "metadata": {},
   "outputs": [],
   "source": []
  },
  {
   "cell_type": "code",
   "execution_count": null,
   "id": "ca2eb416",
   "metadata": {},
   "outputs": [],
   "source": []
  },
  {
   "cell_type": "code",
   "execution_count": null,
   "id": "3c8e9c76",
   "metadata": {},
   "outputs": [],
   "source": []
  },
  {
   "cell_type": "code",
   "execution_count": null,
   "id": "9dc29df6",
   "metadata": {},
   "outputs": [],
   "source": []
  },
  {
   "cell_type": "code",
   "execution_count": null,
   "id": "117af021",
   "metadata": {},
   "outputs": [],
   "source": []
  },
  {
   "cell_type": "code",
   "execution_count": null,
   "id": "b1db45f7",
   "metadata": {},
   "outputs": [],
   "source": []
  },
  {
   "cell_type": "code",
   "execution_count": null,
   "id": "256b5021",
   "metadata": {},
   "outputs": [],
   "source": []
  },
  {
   "cell_type": "code",
   "execution_count": null,
   "id": "0f4c965c",
   "metadata": {},
   "outputs": [],
   "source": []
  },
  {
   "cell_type": "code",
   "execution_count": null,
   "id": "499350b8",
   "metadata": {},
   "outputs": [],
   "source": []
  },
  {
   "cell_type": "code",
   "execution_count": null,
   "id": "ab773b0b",
   "metadata": {},
   "outputs": [],
   "source": []
  },
  {
   "cell_type": "code",
   "execution_count": null,
   "id": "79091744",
   "metadata": {},
   "outputs": [],
   "source": []
  },
  {
   "cell_type": "code",
   "execution_count": null,
   "id": "fc47f891",
   "metadata": {},
   "outputs": [],
   "source": []
  },
  {
   "cell_type": "code",
   "execution_count": null,
   "id": "d7b8496d",
   "metadata": {},
   "outputs": [],
   "source": []
  },
  {
   "cell_type": "code",
   "execution_count": null,
   "id": "d6077760",
   "metadata": {},
   "outputs": [],
   "source": []
  },
  {
   "cell_type": "code",
   "execution_count": null,
   "id": "ab68467f",
   "metadata": {},
   "outputs": [],
   "source": []
  },
  {
   "cell_type": "raw",
   "id": "6e8b5fae",
   "metadata": {},
   "source": [
    "4.Project HR:\n",
    "You are hired as DS engineers and have been assigned the project to manage Hr data. The company has 3 departments namely DS, DE and DA.All departments have 200 employees each.\n"
   ]
  },
  {
   "cell_type": "raw",
   "id": "03b28af6",
   "metadata": {},
   "source": [
    "Task1:\n",
    "Generate employee ids for DS, DE, and DA department employees.\n",
    "DS ids Should be from 1 to 200, DE from 201 to 400 and DA from 401 to 600.\n"
   ]
  },
  {
   "cell_type": "code",
   "execution_count": 8,
   "id": "dee66b17",
   "metadata": {},
   "outputs": [],
   "source": [
    "import numpy as np\n",
    "dsid = np.arange(1, 201)\n",
    "deid = np.arange(201, 401)\n",
    "daid = np.arange(401, 601)\n",
    "\n"
   ]
  },
  {
   "cell_type": "raw",
   "id": "e73ac180",
   "metadata": {},
   "source": [
    "Task2:\n",
    "Generate Salaries for all the departments:\n",
    "For DS salaries should be random numbers between 20000 and 50000, DE salary is 1.5 times DS SALARY, and DA salary is 2000 more than the DS salary.\n"
   ]
  },
  {
   "cell_type": "code",
   "execution_count": 9,
   "id": "efbfdde0",
   "metadata": {},
   "outputs": [],
   "source": [
    "dssalaries = np.random.randint(20000, 50001,200)\n",
    "desalaries = dssalaries * 1.5\n",
    "dasalaries = dssalaries + 2000\n",
    "#print(dssalaries)\n",
    "# print(desalaries)\n",
    "# print(dasalaries)"
   ]
  },
  {
   "cell_type": "code",
   "execution_count": null,
   "id": "59e5d315",
   "metadata": {},
   "outputs": [],
   "source": []
  },
  {
   "cell_type": "code",
   "execution_count": null,
   "id": "ad8ce62f",
   "metadata": {},
   "outputs": [],
   "source": []
  },
  {
   "cell_type": "raw",
   "id": "390e6766",
   "metadata": {},
   "source": [
    "Task3:\n",
    "Provide department-wise CTC i.e how much each department is costing the company.\n"
   ]
  },
  {
   "cell_type": "code",
   "execution_count": 10,
   "id": "6dd249ea",
   "metadata": {},
   "outputs": [],
   "source": [
    "dsctc = np.sum(dssalaries)\n",
    "dectc = np.sum(desalaries)\n",
    "dactc = np.sum(dasalaries)"
   ]
  },
  {
   "cell_type": "raw",
   "id": "81391172",
   "metadata": {},
   "source": [
    "Task4:\n",
    "Provide top 10 salaries across all departments.\n"
   ]
  },
  {
   "cell_type": "code",
   "execution_count": 11,
   "id": "7744d74a",
   "metadata": {},
   "outputs": [
    {
     "name": "stdout",
     "output_type": "stream",
     "text": [
      "[71800.5 71802.  72408.  72745.5 72976.5 73044.  73125.  73369.5 73788. ]\n"
     ]
    }
   ],
   "source": [
    "allsalaries = np.concatenate((dssalaries, desalaries, dasalaries))\n",
    "top10salaries = np.sort(allsalaries)[-10:-1]\n",
    "print(top10salaries)"
   ]
  },
  {
   "cell_type": "raw",
   "id": "bf86370a",
   "metadata": {},
   "source": [
    "Task5:\n",
    "Provide  the sum of top 10 salaries for each department.\n",
    " \n"
   ]
  },
  {
   "cell_type": "code",
   "execution_count": 130,
   "id": "bf8c5795",
   "metadata": {},
   "outputs": [
    {
     "name": "stdout",
     "output_type": "stream",
     "text": [
      "489260\n",
      "733890.0\n",
      "509260\n"
     ]
    }
   ],
   "source": [
    "topdssalaries=np.sum(np.sort(dssalaries)[-10:])\n",
    "topdesalaries=np.sum(np.sort(desalaries)[-10:])\n",
    "topdasalaries=np.sum(np.sort(dasalaries)[-10:])\n",
    "print(topdssalaries)\n",
    "print(topdesalaries)\n",
    "print(topdasalaries)"
   ]
  },
  {
   "cell_type": "raw",
   "id": "51856016",
   "metadata": {},
   "source": [
    "Task6:\n",
    "provide the count of those employees who are in top 10 salary bracket.\n"
   ]
  },
  {
   "cell_type": "code",
   "execution_count": 136,
   "id": "05d9ad31",
   "metadata": {},
   "outputs": [
    {
     "name": "stdout",
     "output_type": "stream",
     "text": [
      "10\n"
     ]
    }
   ],
   "source": [
    "top10count = np.count_nonzero(allsalaries >= np.sort(allsalaries)[-10])\n",
    "print(top10count)"
   ]
  },
  {
   "cell_type": "raw",
   "id": "e6c8fe2f",
   "metadata": {},
   "source": [
    "Task7:\n",
    "Provide  total number of employees having more than 40000 salary in all departments:\n"
   ]
  },
  {
   "cell_type": "code",
   "execution_count": 137,
   "id": "53e395c3",
   "metadata": {},
   "outputs": [
    {
     "name": "stdout",
     "output_type": "stream",
     "text": [
      "281\n"
     ]
    }
   ],
   "source": [
    "highsalarycount = np.count_nonzero(allsalaries > 40000)\n",
    "print(highsalarycount)"
   ]
  },
  {
   "cell_type": "raw",
   "id": "5b7cffce",
   "metadata": {},
   "source": [
    "Task8:\n",
    "Increase the salary of all DS employees whose salary is less than 35000 by 20 %\n"
   ]
  },
  {
   "cell_type": "code",
   "execution_count": 183,
   "id": "35e80ba7",
   "metadata": {},
   "outputs": [
    {
     "name": "stdout",
     "output_type": "stream",
     "text": [
      "[43147 36097 35283 46893 43630 27592 30963 39620 48703 37251 45093 39340\n",
      " 38077 25458 36049 39092 40412 40149 43623 29428 33820 28372 36664 29818\n",
      " 35980 37064 46658 36780 39155 41138 37446 48625 45388 41263 35557 38725\n",
      " 49115 43442 39632 40568 48812 26515 41322 39535 30679 27104 40691 25402\n",
      " 32598 49723 36908 35604 46116 29982 45130 46297 36665 35859 42495 37054\n",
      " 47860 36681 34702 39013 49985 41439 28130 40084 30349 27151 32472 39023\n",
      " 36096 30348 38251 39188 45826 40594 49385 41847 26529 37990 45214 40254\n",
      " 35428 48703 44797 40918 39495 41776 28258 26715 39021 31252 33330 32089\n",
      " 35415 42680 36618 39228 46044 38424 45554 39252 26167 47572 41413 32084\n",
      " 42308 48462 36555 44460 49453 47256 44315 37537 28342 46205 41634 39139\n",
      " 26524 40508 38029 42123 38990 31021 26644 24544 46957 35087 35906 36824\n",
      " 29475 35020 40857 41162 29161 27956 48024 48980 24261 43639 34111 25495\n",
      " 48771 24432 37225 34782 34080 45242 28135 34843 44608 36064 29266 45587\n",
      " 41148 47530 47650 37711 31598 34245 39495 35247 43947 42327 39039 49112\n",
      " 28500 28288 41988 30123 27051 26821 39567 43092 46001 37650 29130 36162\n",
      " 38672 32929 39334 31382 44882 24531 30405 38814 39748 48624 24895 31878\n",
      " 46090 42703 34520 37404 37821 29980 49980 38797]\n"
     ]
    }
   ],
   "source": [
    "# need to check\n",
    "#dssalaries[dssalaries < 35000] *= 1.2\n",
    "# dssalaries = dssalaries.astype(float) \n",
    "# dssalaries[dssalaries < 35000] *= 1.2\n",
    "# dssalaries = dssalaries.astype(int)\n",
    "# print(dssalaries)\n",
    "\n",
    "check = dssalaries < 35000\n",
    "dssalaries[check] = (dssalaries[check] * 1.2)\n",
    "\n",
    "print(dssalaries)\n"
   ]
  },
  {
   "cell_type": "code",
   "execution_count": null,
   "id": "e351ed9f",
   "metadata": {},
   "outputs": [],
   "source": []
  },
  {
   "cell_type": "raw",
   "id": "617ac359",
   "metadata": {},
   "source": [
    "Task9:\n",
    "Delete records of the employees with emp id > 380 from DE department.\n"
   ]
  },
  {
   "cell_type": "code",
   "execution_count": 243,
   "id": "253ca27f",
   "metadata": {},
   "outputs": [
    {
     "name": "stdout",
     "output_type": "stream",
     "text": [
      "(array([180, 181, 182, 183, 184, 185, 186, 187, 188, 189, 190, 191, 192,\n",
      "       193, 194], dtype=int64),)\n",
      "[201 202 203 204 205 206 207 208 209 210 211 212 213 214 215 216 217 218\n",
      " 219 220 221 222 223 224 225 226 227 228 229 230 231 232 233 234 235 236\n",
      " 237 238 239 240 241 242 243 244 245 246 247 248 249 250 251 252 253 254\n",
      " 255 256 257 258 259 260 261 262 263 264 265 266 267 268 269 270 271 272\n",
      " 273 274 275 276 277 278 279 280 281 282 283 284 285 286 287 288 289 290\n",
      " 291 292 293 294 295 296 297 298 299 300 301 302 303 304 305 306 307 308\n",
      " 309 310 311 312 313 314 315 316 317 318 319 320 321 322 323 324 325 326\n",
      " 327 328 329 330 331 332 333 334 335 336 337 338 339 340 341 342 343 344\n",
      " 345 346 347 348 349 350 351 352 353 354 355 356 357 358 359 360 361 362\n",
      " 363 364 365 366 367 368 369 370 371 372 373 374 375 376 377 378 379 380]\n"
     ]
    }
   ],
   "source": [
    "deleteindices = np.where(deid > 380)\n",
    "deid = np.delete(deid, deleteindices)\n",
    "desalaries = np.delete(desalaries, deleteindices)\n",
    "print(deleteindices)\n",
    "print(deid)\n",
    "\n",
    "\n",
    "# deid = np.delete(deid, np.where(deid > 380))\n",
    "# desalaries = np.delete(desalaries, np.where(deid > 380))\n",
    "# print(np.count_nonzero(desalaries))\n"
   ]
  },
  {
   "cell_type": "code",
   "execution_count": null,
   "id": "fae2970d",
   "metadata": {},
   "outputs": [],
   "source": []
  },
  {
   "cell_type": "raw",
   "id": "1a5fb311",
   "metadata": {},
   "source": [
    "Task10:\n",
    "Add  5 employees to DE department with new ID's from (701 to 705)\n",
    " \n"
   ]
  },
  {
   "cell_type": "code",
   "execution_count": 191,
   "id": "a5044e13",
   "metadata": {},
   "outputs": [
    {
     "name": "stdout",
     "output_type": "stream",
     "text": [
      "[64720.5 45121.5 52924.5 70339.5 65445.  34491.  38704.5 59430.  73054.5\n",
      " 55876.5 67639.5 59010.  57115.5 31822.5 54073.5 58638.  50515.5 60223.5\n",
      " 65434.5 36786.  42276.  35466.  54996.  37273.5 53970.  55596.  69987.\n",
      " 55170.  58732.5 51423.  46807.5 72937.5 68082.  51579.  44446.5 58087.5\n",
      " 73672.5 65163.  49540.5 60852.  73218.  33144.  61983.  49419.  38349.\n",
      " 33880.5 61036.5 31753.5 40747.5 74584.5 46135.5 53406.  69174.  37477.5\n",
      " 67695.  69445.5 54997.5 44824.5 63742.5 55581.  71790.  55021.5 43378.5\n",
      " 48766.5 74977.5 51799.5 35163.  50106.  37936.5 33939.  40590.  58534.5\n",
      " 54144.  37935.  47814.  58782.  68739.  60891.  74077.5 52309.5 33162.\n",
      " 47488.5 67821.  60381.  53142.  73054.5 67195.5 61377.  49369.5 52221.\n",
      " 35323.5 33394.5 48777.  39066.  41662.5 40111.5 53122.5 64020.  45772.5\n",
      " 49035.  69066.  57636.  68331.  58878.  32709.  71358.  51766.5 40105.5\n",
      " 63462.  72693.  54832.5 66690.  74179.5 70884.  66472.5 56305.5 35428.5\n",
      " 69307.5 52042.5 48924.  33156.  50635.5 47536.5 63184.5 58485.  38776.5\n",
      " 33306.  30681.  70435.5 52630.5 53859.  55236.  36844.5 43776.  51072.\n",
      " 51453.  36451.5 34945.5 72036.  73470.  30327.  65458.5 42639.  31869.\n",
      " 73156.5 30540.  46531.5 43477.5 42600.  67863.  35169.  43554.  66912.\n",
      " 54096.  36583.5 68380.5 51435.  71295.  71475.  56566.5 39498.  42807.\n",
      " 59242.5 52870.5 65920.5 63490.5 48799.5 73668.  35625.  35361.  62982.\n",
      " 37654.5 33814.5 33526.5 59350.5 64638.  69001.5 56475.  36412.5 54243.\n",
      " 48340.5 41161.5 49168.5 39228.  67323.  30664.5 38007.  48517.5 59622.\n",
      " 72936.  31119.  39847.5 69135.  64054.5 43150.5 56106.  47277.  37476.\n",
      " 74970.  58195.5 47555.  29396.  37856.  20365.  31627.  48136.  45156.\n",
      " 40750.  33474.  26659.  27317.  24201.  23421.  21836.  23094. ]\n"
     ]
    }
   ],
   "source": [
    "newid = np.arange(701, 706)\n",
    "deid = np.concatenate((deid, newid))\n",
    "desalaries = np.concatenate((desalaries, np.random.randint(20000, 50001,5)))\n",
    "print(desalaries)\n"
   ]
  },
  {
   "cell_type": "code",
   "execution_count": null,
   "id": "b5a8b3be",
   "metadata": {},
   "outputs": [],
   "source": []
  },
  {
   "cell_type": "code",
   "execution_count": null,
   "id": "09c60471",
   "metadata": {},
   "outputs": [],
   "source": []
  },
  {
   "cell_type": "code",
   "execution_count": null,
   "id": "1db72498",
   "metadata": {},
   "outputs": [],
   "source": []
  },
  {
   "cell_type": "code",
   "execution_count": null,
   "id": "af521fc0",
   "metadata": {},
   "outputs": [],
   "source": []
  },
  {
   "cell_type": "code",
   "execution_count": null,
   "id": "c8e63272",
   "metadata": {},
   "outputs": [],
   "source": []
  },
  {
   "cell_type": "code",
   "execution_count": null,
   "id": "95f815ed",
   "metadata": {},
   "outputs": [],
   "source": []
  },
  {
   "cell_type": "code",
   "execution_count": null,
   "id": "ea8d7d01",
   "metadata": {},
   "outputs": [],
   "source": []
  },
  {
   "cell_type": "code",
   "execution_count": null,
   "id": "4f65f871",
   "metadata": {},
   "outputs": [],
   "source": []
  },
  {
   "cell_type": "code",
   "execution_count": null,
   "id": "e0053c8d",
   "metadata": {},
   "outputs": [],
   "source": []
  },
  {
   "cell_type": "code",
   "execution_count": null,
   "id": "1bc3f54f",
   "metadata": {},
   "outputs": [],
   "source": []
  },
  {
   "cell_type": "code",
   "execution_count": null,
   "id": "8852d3bd",
   "metadata": {},
   "outputs": [],
   "source": []
  },
  {
   "cell_type": "code",
   "execution_count": null,
   "id": "d5da0e34",
   "metadata": {},
   "outputs": [],
   "source": []
  },
  {
   "cell_type": "code",
   "execution_count": null,
   "id": "0194c88e",
   "metadata": {},
   "outputs": [],
   "source": []
  },
  {
   "cell_type": "code",
   "execution_count": null,
   "id": "6001a14b",
   "metadata": {},
   "outputs": [],
   "source": []
  },
  {
   "cell_type": "code",
   "execution_count": null,
   "id": "05869e0c",
   "metadata": {},
   "outputs": [],
   "source": []
  },
  {
   "cell_type": "code",
   "execution_count": null,
   "id": "900686c3",
   "metadata": {},
   "outputs": [],
   "source": []
  },
  {
   "cell_type": "code",
   "execution_count": null,
   "id": "a5132b28",
   "metadata": {},
   "outputs": [],
   "source": []
  },
  {
   "cell_type": "code",
   "execution_count": null,
   "id": "1ecce960",
   "metadata": {},
   "outputs": [],
   "source": []
  },
  {
   "cell_type": "code",
   "execution_count": null,
   "id": "9dc890a4",
   "metadata": {},
   "outputs": [],
   "source": []
  },
  {
   "cell_type": "code",
   "execution_count": null,
   "id": "c8bded67",
   "metadata": {},
   "outputs": [],
   "source": []
  },
  {
   "cell_type": "code",
   "execution_count": null,
   "id": "89e2f505",
   "metadata": {},
   "outputs": [],
   "source": []
  },
  {
   "cell_type": "code",
   "execution_count": null,
   "id": "60ef8ad5",
   "metadata": {},
   "outputs": [],
   "source": []
  },
  {
   "cell_type": "code",
   "execution_count": null,
   "id": "c362b65a",
   "metadata": {},
   "outputs": [],
   "source": []
  },
  {
   "cell_type": "code",
   "execution_count": null,
   "id": "9a24f6eb",
   "metadata": {},
   "outputs": [],
   "source": []
  },
  {
   "cell_type": "code",
   "execution_count": null,
   "id": "9ee3c0b6",
   "metadata": {},
   "outputs": [],
   "source": []
  },
  {
   "cell_type": "code",
   "execution_count": null,
   "id": "34cf5f48",
   "metadata": {},
   "outputs": [],
   "source": []
  },
  {
   "cell_type": "code",
   "execution_count": null,
   "id": "e060ccc4",
   "metadata": {},
   "outputs": [],
   "source": []
  },
  {
   "cell_type": "code",
   "execution_count": null,
   "id": "ae5c22c5",
   "metadata": {},
   "outputs": [],
   "source": []
  },
  {
   "cell_type": "code",
   "execution_count": null,
   "id": "d5b283de",
   "metadata": {},
   "outputs": [],
   "source": []
  },
  {
   "cell_type": "code",
   "execution_count": null,
   "id": "96c3d050",
   "metadata": {},
   "outputs": [],
   "source": []
  },
  {
   "cell_type": "code",
   "execution_count": null,
   "id": "0841c89f",
   "metadata": {},
   "outputs": [],
   "source": []
  },
  {
   "cell_type": "code",
   "execution_count": null,
   "id": "f0e2ad3b",
   "metadata": {},
   "outputs": [],
   "source": []
  },
  {
   "cell_type": "code",
   "execution_count": null,
   "id": "81792340",
   "metadata": {},
   "outputs": [],
   "source": []
  },
  {
   "cell_type": "code",
   "execution_count": null,
   "id": "759e1587",
   "metadata": {},
   "outputs": [],
   "source": []
  },
  {
   "cell_type": "code",
   "execution_count": null,
   "id": "34f6a7e0",
   "metadata": {},
   "outputs": [],
   "source": []
  },
  {
   "cell_type": "code",
   "execution_count": null,
   "id": "51941f5d",
   "metadata": {},
   "outputs": [],
   "source": []
  },
  {
   "cell_type": "code",
   "execution_count": null,
   "id": "3deef5b0",
   "metadata": {},
   "outputs": [],
   "source": []
  },
  {
   "cell_type": "code",
   "execution_count": null,
   "id": "3d2509c5",
   "metadata": {},
   "outputs": [],
   "source": []
  },
  {
   "cell_type": "code",
   "execution_count": null,
   "id": "e046332d",
   "metadata": {},
   "outputs": [],
   "source": []
  },
  {
   "cell_type": "code",
   "execution_count": null,
   "id": "6a6f58ac",
   "metadata": {},
   "outputs": [],
   "source": []
  },
  {
   "cell_type": "code",
   "execution_count": null,
   "id": "0f2314ee",
   "metadata": {},
   "outputs": [],
   "source": []
  },
  {
   "cell_type": "code",
   "execution_count": null,
   "id": "ea9394ea",
   "metadata": {},
   "outputs": [],
   "source": []
  },
  {
   "cell_type": "code",
   "execution_count": null,
   "id": "c774869e",
   "metadata": {},
   "outputs": [],
   "source": []
  },
  {
   "cell_type": "code",
   "execution_count": null,
   "id": "06e7bf26",
   "metadata": {},
   "outputs": [],
   "source": []
  },
  {
   "cell_type": "code",
   "execution_count": null,
   "id": "ad130f98",
   "metadata": {},
   "outputs": [],
   "source": []
  },
  {
   "cell_type": "code",
   "execution_count": null,
   "id": "15c18065",
   "metadata": {},
   "outputs": [],
   "source": []
  },
  {
   "cell_type": "code",
   "execution_count": null,
   "id": "81e0cd0e",
   "metadata": {},
   "outputs": [],
   "source": []
  },
  {
   "cell_type": "code",
   "execution_count": null,
   "id": "1f044b18",
   "metadata": {},
   "outputs": [],
   "source": []
  },
  {
   "cell_type": "code",
   "execution_count": null,
   "id": "48b2f95a",
   "metadata": {},
   "outputs": [],
   "source": []
  },
  {
   "cell_type": "code",
   "execution_count": null,
   "id": "6b6a3ca7",
   "metadata": {},
   "outputs": [],
   "source": []
  },
  {
   "cell_type": "code",
   "execution_count": null,
   "id": "e2b75cd1",
   "metadata": {},
   "outputs": [],
   "source": []
  },
  {
   "cell_type": "code",
   "execution_count": null,
   "id": "30f109b6",
   "metadata": {},
   "outputs": [],
   "source": []
  },
  {
   "cell_type": "code",
   "execution_count": null,
   "id": "c99988c5",
   "metadata": {},
   "outputs": [],
   "source": []
  },
  {
   "cell_type": "code",
   "execution_count": null,
   "id": "552b6155",
   "metadata": {},
   "outputs": [],
   "source": []
  },
  {
   "cell_type": "code",
   "execution_count": null,
   "id": "d52d287f",
   "metadata": {},
   "outputs": [],
   "source": []
  },
  {
   "cell_type": "code",
   "execution_count": null,
   "id": "013421c5",
   "metadata": {},
   "outputs": [],
   "source": []
  },
  {
   "cell_type": "code",
   "execution_count": null,
   "id": "2af39bbd",
   "metadata": {},
   "outputs": [],
   "source": []
  },
  {
   "cell_type": "code",
   "execution_count": null,
   "id": "988b9867",
   "metadata": {},
   "outputs": [],
   "source": []
  },
  {
   "cell_type": "code",
   "execution_count": null,
   "id": "b247a180",
   "metadata": {},
   "outputs": [],
   "source": []
  },
  {
   "cell_type": "code",
   "execution_count": null,
   "id": "6632608d",
   "metadata": {},
   "outputs": [],
   "source": []
  },
  {
   "cell_type": "code",
   "execution_count": null,
   "id": "e822e60e",
   "metadata": {},
   "outputs": [],
   "source": []
  },
  {
   "cell_type": "code",
   "execution_count": null,
   "id": "2b11952b",
   "metadata": {},
   "outputs": [],
   "source": []
  },
  {
   "cell_type": "code",
   "execution_count": null,
   "id": "990c7806",
   "metadata": {},
   "outputs": [],
   "source": []
  },
  {
   "cell_type": "code",
   "execution_count": null,
   "id": "4f7e7592",
   "metadata": {},
   "outputs": [],
   "source": []
  },
  {
   "cell_type": "code",
   "execution_count": null,
   "id": "de70166e",
   "metadata": {},
   "outputs": [],
   "source": []
  },
  {
   "cell_type": "code",
   "execution_count": null,
   "id": "f3151a0a",
   "metadata": {},
   "outputs": [],
   "source": []
  },
  {
   "cell_type": "code",
   "execution_count": null,
   "id": "1a8a8b43",
   "metadata": {},
   "outputs": [],
   "source": []
  },
  {
   "cell_type": "code",
   "execution_count": null,
   "id": "c4713e68",
   "metadata": {},
   "outputs": [],
   "source": []
  },
  {
   "cell_type": "code",
   "execution_count": null,
   "id": "fbcf0cf1",
   "metadata": {},
   "outputs": [],
   "source": []
  },
  {
   "cell_type": "code",
   "execution_count": null,
   "id": "c7f523c1",
   "metadata": {},
   "outputs": [],
   "source": []
  },
  {
   "cell_type": "code",
   "execution_count": null,
   "id": "95328385",
   "metadata": {},
   "outputs": [],
   "source": []
  },
  {
   "cell_type": "code",
   "execution_count": null,
   "id": "6d08f23b",
   "metadata": {},
   "outputs": [],
   "source": []
  }
 ],
 "metadata": {
  "kernelspec": {
   "display_name": "Python 3 (ipykernel)",
   "language": "python",
   "name": "python3"
  },
  "language_info": {
   "codemirror_mode": {
    "name": "ipython",
    "version": 3
   },
   "file_extension": ".py",
   "mimetype": "text/x-python",
   "name": "python",
   "nbconvert_exporter": "python",
   "pygments_lexer": "ipython3",
   "version": "3.10.9"
  }
 },
 "nbformat": 4,
 "nbformat_minor": 5
}
