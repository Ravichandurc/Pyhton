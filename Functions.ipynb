{
 "cells": [
  {
   "cell_type": "markdown",
   "id": "b5354c02",
   "metadata": {},
   "source": [
    "# Functions"
   ]
  },
  {
   "cell_type": "code",
   "execution_count": 3,
   "id": "6f178079",
   "metadata": {},
   "outputs": [
    {
     "name": "stdout",
     "output_type": "stream",
     "text": [
      "out\n",
      "in\n",
      "out out\n"
     ]
    }
   ],
   "source": [
    "out()\n",
    "def out():\n",
    "    print(\"out\")\n",
    "    def inn():\n",
    "        print(\"in\")\n",
    "    inn()\n",
    "    print(\"out out\")\n"
   ]
  },
  {
   "cell_type": "code",
   "execution_count": 10,
   "id": "53df4c9c",
   "metadata": {},
   "outputs": [
    {
     "name": "stdout",
     "output_type": "stream",
     "text": [
      "1 2 3 4 "
     ]
    }
   ],
   "source": [
    "def rcv(*args):\n",
    "    for i in args:\n",
    "        print(i,end=' ')\n",
    "rcv(1,2,3,4)"
   ]
  },
  {
   "cell_type": "code",
   "execution_count": 20,
   "id": "e3171b3e",
   "metadata": {},
   "outputs": [
    {
     "name": "stdout",
     "output_type": "stream",
     "text": [
      "a 1 b 2 "
     ]
    }
   ],
   "source": [
    "def rcv(**kwargs):\n",
    "    for i,k in kwargs.items():\n",
    "        print(i,k, end=' ')\n",
    "\n",
    "rcv(a='1',b='2')"
   ]
  },
  {
   "cell_type": "code",
   "execution_count": 36,
   "id": "1d28c092",
   "metadata": {},
   "outputs": [
    {
     "name": "stdout",
     "output_type": "stream",
     "text": [
      "positional:\n",
      "1\n",
      " variable length positional:\n",
      "10\n",
      "20\n",
      "30\n",
      " key word positional:\n",
      "2\n",
      " key word variable length positional:\n",
      "a   10\n",
      "b   hello\n"
     ]
    }
   ],
   "source": [
    "def p1(x,*args,y,**kwargs):\n",
    "    print(\"positional:\")\n",
    "    print(x)\n",
    "    print(\" variable length positional:\")\n",
    "    for i in args:\n",
    "        print(i)\n",
    "    print(\" key word positional:\")\n",
    "    print(y)\n",
    "    print(\" key word variable length positional:\")\n",
    "    for i,k in kwargs.items():\n",
    "        print(i,\" \",k)\n",
    "\n",
    "p1(1,10,20,30,y=2,a=10,b='hello')"
   ]
  },
  {
   "cell_type": "code",
   "execution_count": 40,
   "id": "890608b7",
   "metadata": {},
   "outputs": [
    {
     "name": "stdout",
     "output_type": "stream",
     "text": [
      "positional:\n",
      "1\n",
      " variable length positional:\n",
      "10\n",
      "11\n",
      " key word positional:\n",
      "111\n",
      " key word variable length positional:\n",
      "dict   {'1': 'a', '2': 'b'}\n"
     ]
    }
   ],
   "source": [
    "p1(1,10,11,y=111,dict={'1':'a','2':'b'})"
   ]
  },
  {
   "cell_type": "code",
   "execution_count": 56,
   "id": "947e7c8c",
   "metadata": {},
   "outputs": [
    {
     "name": "stdout",
     "output_type": "stream",
     "text": [
      "a c\n"
     ]
    }
   ],
   "source": [
    "\n",
    "lis=[1,23,5]\n",
    "def fun(q,b):\n",
    "  print(q,b)\n",
    "dict={'q':'a','b':'c'}\n",
    "fun(**dict)\n"
   ]
  },
  {
   "cell_type": "code",
   "execution_count": 57,
   "id": "828cdb6e",
   "metadata": {},
   "outputs": [
    {
     "name": "stdout",
     "output_type": "stream",
     "text": [
      "1 2\n"
     ]
    }
   ],
   "source": [
    "lis=[1,2]\n",
    "fun(*lis)"
   ]
  },
  {
   "cell_type": "code",
   "execution_count": 58,
   "id": "2377c8a3",
   "metadata": {},
   "outputs": [
    {
     "name": "stdout",
     "output_type": "stream",
     "text": [
      "10 23\n"
     ]
    }
   ],
   "source": [
    "li=(10,23)\n",
    "fun(*li)"
   ]
  },
  {
   "cell_type": "code",
   "execution_count": null,
   "id": "4a301f6c",
   "metadata": {},
   "outputs": [],
   "source": []
  }
 ],
 "metadata": {
  "kernelspec": {
   "display_name": "Python 3 (ipykernel)",
   "language": "python",
   "name": "python3"
  },
  "language_info": {
   "codemirror_mode": {
    "name": "ipython",
    "version": 3
   },
   "file_extension": ".py",
   "mimetype": "text/x-python",
   "name": "python",
   "nbconvert_exporter": "python",
   "pygments_lexer": "ipython3",
   "version": "3.10.9"
  }
 },
 "nbformat": 4,
 "nbformat_minor": 5
}
