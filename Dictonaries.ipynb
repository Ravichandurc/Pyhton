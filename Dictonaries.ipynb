{
 "cells": [
  {
   "cell_type": "markdown",
   "id": "7bb0d933",
   "metadata": {},
   "source": [
    "### Dictonaries\n"
   ]
  },
  {
   "cell_type": "code",
   "execution_count": 29,
   "id": "ab3e5cde",
   "metadata": {},
   "outputs": [],
   "source": [
    "Dict={}"
   ]
  },
  {
   "cell_type": "code",
   "execution_count": null,
   "id": "1910cdc5",
   "metadata": {},
   "outputs": [],
   "source": [
    "Dict2=dict()"
   ]
  },
  {
   "cell_type": "code",
   "execution_count": null,
   "id": "3d201189",
   "metadata": {},
   "outputs": [],
   "source": [
    "#dict from list\n",
    "Dict3=dict([('key','value1'),('name','sunny')])\n",
    "Dict3"
   ]
  },
  {
   "cell_type": "code",
   "execution_count": null,
   "id": "e7e3c140",
   "metadata": {},
   "outputs": [],
   "source": [
    "dict1={'id':'1','name':'rc','num':'4'}\n",
    "print(dict1['id'])"
   ]
  },
  {
   "cell_type": "code",
   "execution_count": 30,
   "id": "c6f5e968",
   "metadata": {},
   "outputs": [],
   "source": [
    "Dict[0]='r'"
   ]
  },
  {
   "cell_type": "code",
   "execution_count": 31,
   "id": "6be605ea",
   "metadata": {},
   "outputs": [
    {
     "name": "stdout",
     "output_type": "stream",
     "text": [
      "{0: 'r'}\n"
     ]
    }
   ],
   "source": [
    "print(Dict)"
   ]
  },
  {
   "cell_type": "code",
   "execution_count": 32,
   "id": "fb4c3d5f",
   "metadata": {},
   "outputs": [],
   "source": [
    "Dict[1]='r','c','v'\n"
   ]
  },
  {
   "cell_type": "code",
   "execution_count": 33,
   "id": "a4054a63",
   "metadata": {},
   "outputs": [],
   "source": [
    "Dict[2]='2','3','4'"
   ]
  },
  {
   "cell_type": "code",
   "execution_count": 34,
   "id": "31e3124b",
   "metadata": {},
   "outputs": [
    {
     "name": "stdout",
     "output_type": "stream",
     "text": [
      "{0: 'r', 1: ('r', 'c', 'v'), 2: ('2', '3', '4')}\n"
     ]
    }
   ],
   "source": [
    "print(Dict)"
   ]
  },
  {
   "cell_type": "code",
   "execution_count": null,
   "id": "e0d6eb7a",
   "metadata": {},
   "outputs": [],
   "source": [
    "Dict[1]='h','i'"
   ]
  },
  {
   "cell_type": "code",
   "execution_count": null,
   "id": "1ba5fe45",
   "metadata": {},
   "outputs": [],
   "source": [
    "print(Dict)"
   ]
  },
  {
   "cell_type": "code",
   "execution_count": null,
   "id": "6e8755d6",
   "metadata": {},
   "outputs": [],
   "source": [
    "#taking user input\n",
    "Dict4={}\n",
    "a=input(\"first value:\")\n",
    "b=input(\"second value:\")\n",
    "Dict4['Value1']=a\n",
    "Dict4['Value2']=b\n",
    "Dict4\n"
   ]
  },
  {
   "cell_type": "markdown",
   "id": "18814f8a",
   "metadata": {},
   "source": [
    "### Deleting Element"
   ]
  },
  {
   "cell_type": "code",
   "execution_count": null,
   "id": "f90e822b",
   "metadata": {},
   "outputs": [],
   "source": [
    "dict5={'id':'1','name':'rc','num':'4'}\n"
   ]
  },
  {
   "cell_type": "code",
   "execution_count": null,
   "id": "0998d551",
   "metadata": {},
   "outputs": [],
   "source": [
    "del dict5['id']\n",
    "dict5\n",
    "dict5"
   ]
  },
  {
   "cell_type": "code",
   "execution_count": null,
   "id": "a3fa9f33",
   "metadata": {},
   "outputs": [],
   "source": [
    "dict5.popitem()\n",
    "dict5"
   ]
  },
  {
   "cell_type": "code",
   "execution_count": null,
   "id": "3f5b723d",
   "metadata": {},
   "outputs": [],
   "source": [
    "dict5.pop('num')"
   ]
  },
  {
   "cell_type": "code",
   "execution_count": null,
   "id": "ee852555",
   "metadata": {},
   "outputs": [],
   "source": [
    "dict5.clear()"
   ]
  },
  {
   "cell_type": "code",
   "execution_count": null,
   "id": "34f52a77",
   "metadata": {},
   "outputs": [],
   "source": [
    "dict5"
   ]
  },
  {
   "cell_type": "markdown",
   "id": "8727b4fd",
   "metadata": {},
   "source": [
    "### Iteration trough dictonaries\n"
   ]
  },
  {
   "cell_type": "code",
   "execution_count": null,
   "id": "7ba06e97",
   "metadata": {},
   "outputs": [],
   "source": [
    "dict6={'id':'1','name':'rc','num':'4'}\n",
    "for key,value in dict6.items():\n",
    "    print(key,':',value)\n"
   ]
  },
  {
   "cell_type": "code",
   "execution_count": null,
   "id": "5415c52f",
   "metadata": {},
   "outputs": [],
   "source": [
    "for i in dict6:\n",
    "    print(dict6[i])"
   ]
  },
  {
   "cell_type": "code",
   "execution_count": null,
   "id": "b09abd8b",
   "metadata": {},
   "outputs": [],
   "source": [
    "for i in dict6.items():\n",
    "    print(i)"
   ]
  },
  {
   "cell_type": "markdown",
   "id": "9bc95d42",
   "metadata": {},
   "source": [
    "### nested dictonaries"
   ]
  },
  {
   "cell_type": "code",
   "execution_count": 16,
   "id": "66f76e63",
   "metadata": {},
   "outputs": [
    {
     "data": {
      "text/plain": [
       "'a'"
      ]
     },
     "execution_count": 16,
     "metadata": {},
     "output_type": "execute_result"
    }
   ],
   "source": [
    "#fetching nested dictonaries values\n",
    "dict7={'k1':'1','k2':{'1':'a','2':'b'}}\n",
    "dict7['k2']['1']"
   ]
  },
  {
   "cell_type": "code",
   "execution_count": 17,
   "id": "fc26f654",
   "metadata": {},
   "outputs": [
    {
     "data": {
      "text/plain": [
       "{'k1': '1', 'k2': {'1': 'b', '2': 'b'}}"
      ]
     },
     "execution_count": 17,
     "metadata": {},
     "output_type": "execute_result"
    }
   ],
   "source": [
    "#updating nested  Dictonary values\n",
    "\n",
    "dict7['k2']['1']='b'\n",
    "dict7"
   ]
  },
  {
   "cell_type": "code",
   "execution_count": 18,
   "id": "d74b35da",
   "metadata": {},
   "outputs": [
    {
     "data": {
      "text/plain": [
       "{'k1': '1', 'k2': {'1': 'b', '2': 'b', '3': 'c'}}"
      ]
     },
     "execution_count": 18,
     "metadata": {},
     "output_type": "execute_result"
    }
   ],
   "source": [
    "#addig new data to nested dictonaries\n",
    "dict7['k2']['3']='c'\n",
    "dict7"
   ]
  },
  {
   "cell_type": "code",
   "execution_count": 20,
   "id": "635b1e9b",
   "metadata": {},
   "outputs": [
    {
     "name": "stdout",
     "output_type": "stream",
     "text": [
      "('1', 'b')\n",
      "('2', 'b')\n",
      "('3', 'c')\n"
     ]
    }
   ],
   "source": [
    "for i in dict7['k2'].items():\n",
    "    print(i)"
   ]
  },
  {
   "cell_type": "code",
   "execution_count": 35,
   "id": "00a1a007",
   "metadata": {},
   "outputs": [
    {
     "data": {
      "text/plain": [
       "{1: 'a', 2: 'b', 3: 'c', 4: 'd', 5: 'e'}"
      ]
     },
     "execution_count": 35,
     "metadata": {},
     "output_type": "execute_result"
    }
   ],
   "source": [
    "l1=[1,2,3,4,5]\n",
    "l2=['a','b','c','d','e']\n",
    "dict(zip(l1,l2))"
   ]
  },
  {
   "cell_type": "code",
   "execution_count": null,
   "id": "586b01df",
   "metadata": {},
   "outputs": [],
   "source": []
  },
  {
   "cell_type": "markdown",
   "id": "9c03aead",
   "metadata": {},
   "source": [
    "### properties"
   ]
  },
  {
   "cell_type": "code",
   "execution_count": null,
   "id": "c157314b",
   "metadata": {},
   "outputs": [],
   "source": [
    "dict8={'id':'1','name':'rc','num':'4','id':2}\n",
    "dict8\n"
   ]
  },
  {
   "cell_type": "code",
   "execution_count": null,
   "id": "f8b08e36",
   "metadata": {},
   "outputs": [],
   "source": [
    "dict9={'id':'1','name':'rc','num':'4',(1,2,3):2}\n",
    "dict9"
   ]
  },
  {
   "cell_type": "code",
   "execution_count": null,
   "id": "4f1f6950",
   "metadata": {},
   "outputs": [],
   "source": [
    "dict10={'id':'1','name':'rc','num':'4',(1,2,3):2}\n",
    "dict10"
   ]
  },
  {
   "cell_type": "markdown",
   "id": "7cdcf863",
   "metadata": {},
   "source": [
    "### built-in dictonary functions"
   ]
  },
  {
   "cell_type": "code",
   "execution_count": 8,
   "id": "77dfe4ec",
   "metadata": {},
   "outputs": [],
   "source": [
    "dict11={'id':'1','name':'rc','num':'4','r':'2'}\n"
   ]
  },
  {
   "cell_type": "code",
   "execution_count": null,
   "id": "f11fa670",
   "metadata": {},
   "outputs": [],
   "source": [
    "len(dict11)"
   ]
  },
  {
   "cell_type": "code",
   "execution_count": null,
   "id": "3bbb93b3",
   "metadata": {},
   "outputs": [],
   "source": [
    "any(dict11)"
   ]
  },
  {
   "cell_type": "code",
   "execution_count": null,
   "id": "db070d9c",
   "metadata": {},
   "outputs": [],
   "source": [
    "all(dict11)"
   ]
  },
  {
   "cell_type": "code",
   "execution_count": null,
   "id": "ddfd2c90",
   "metadata": {},
   "outputs": [],
   "source": []
  },
  {
   "cell_type": "code",
   "execution_count": 9,
   "id": "7e36c057",
   "metadata": {},
   "outputs": [
    {
     "data": {
      "text/plain": [
       "{'id': '1', 'name': 'rc', 'num': '4', 'r': '2'}"
      ]
     },
     "execution_count": 9,
     "metadata": {},
     "output_type": "execute_result"
    }
   ],
   "source": [
    "dictcopy=dict11.copy()\n",
    "dictcopy"
   ]
  },
  {
   "cell_type": "code",
   "execution_count": 7,
   "id": "2d5af546",
   "metadata": {},
   "outputs": [
    {
     "data": {
      "text/plain": [
       "'1'"
      ]
     },
     "execution_count": 7,
     "metadata": {},
     "output_type": "execute_result"
    }
   ],
   "source": [
    "dictcopy.get('id')"
   ]
  },
  {
   "cell_type": "code",
   "execution_count": 11,
   "id": "1feac4cf",
   "metadata": {},
   "outputs": [
    {
     "data": {
      "text/plain": [
       "{'id': '1', 'name': 'rc', 'num': '4', 5: '2'}"
      ]
     },
     "execution_count": 11,
     "metadata": {},
     "output_type": "execute_result"
    }
   ],
   "source": [
    "dictcopy[5]=dictcopy.pop('r')\n",
    "dictcopy"
   ]
  },
  {
   "cell_type": "code",
   "execution_count": 13,
   "id": "bf62568a",
   "metadata": {},
   "outputs": [
    {
     "data": {
      "text/plain": [
       "{'id': '1', 'name': 'rc', 'num': '4', 5: 'rc'}"
      ]
     },
     "execution_count": 13,
     "metadata": {},
     "output_type": "execute_result"
    }
   ],
   "source": [
    "dictcopy.update({5:'rc'})\n",
    "dictcopy"
   ]
  },
  {
   "cell_type": "code",
   "execution_count": 14,
   "id": "4c727596",
   "metadata": {},
   "outputs": [
    {
     "name": "stdout",
     "output_type": "stream",
     "text": [
      "True\n"
     ]
    }
   ],
   "source": [
    "print('rc' in dictcopy.values())"
   ]
  },
  {
   "cell_type": "code",
   "execution_count": 15,
   "id": "7e0f8b86",
   "metadata": {},
   "outputs": [
    {
     "name": "stdout",
     "output_type": "stream",
     "text": [
      "False\n"
     ]
    }
   ],
   "source": [
    "print('rc' not in dictcopy.values())"
   ]
  },
  {
   "cell_type": "markdown",
   "id": "fd38e20e",
   "metadata": {},
   "source": [
    "# <center> Exercise"
   ]
  },
  {
   "cell_type": "code",
   "execution_count": 36,
   "id": "7cc142ba",
   "metadata": {},
   "outputs": [
    {
     "data": {
      "text/plain": [
       "{1: 1, 2: 4, 3: 9, 4: 16, 5: 25}"
      ]
     },
     "execution_count": 36,
     "metadata": {},
     "output_type": "execute_result"
    }
   ],
   "source": [
    "# creating dict contain sqaure as values\n",
    "number=[1,2,3,4,5]\n",
    "squaredict={num:num*num  for num in number}\n",
    "squaredict"
   ]
  },
  {
   "cell_type": "code",
   "execution_count": 48,
   "id": "73277cc4",
   "metadata": {},
   "outputs": [
    {
     "name": "stdout",
     "output_type": "stream",
     "text": [
      "soap : 60\n",
      "oil : 300\n",
      "salt : 200\n"
     ]
    }
   ],
   "source": [
    "# create two dict and calculate the total cost\n",
    "dictprice={'soap':30,'oil':100,'salt':40}\n",
    "dictquant={'oil':3,'soap':2,'salt':5}\n",
    "for x in dictprice.keys():\n",
    "    \n",
    "    print(x,\":\",dictprice[x]*dictquant[x])\n",
    "\n"
   ]
  },
  {
   "cell_type": "code",
   "execution_count": 101,
   "id": "3ba6d45a",
   "metadata": {},
   "outputs": [
    {
     "name": "stdout",
     "output_type": "stream",
     "text": [
      "{'The': 1, 'paragraph': 2, 'is': 1, 'the': 1, 'basic': 1, 'unit': 1, 'for': 1, 'organising': 1, 'information': 2, 'in': 2, 'your': 2, 'writing.': 1, 'You': 1, 'use': 1, 'to': 1, 'structure': 1, 'all': 1, 'of': 1, 'exam': 1, 'and': 2, 'assignment': 1, 'essays': 1, 'short': 1, 'answer': 1, 'questions': 1} "
     ]
    }
   ],
   "source": [
    "#2\n",
    "\n",
    "text=\"The paragraph is the basic unit for organising information in your writing. You use paragraph to structure information in all of your exam and assignment essays and short answer questions\"\n",
    "k=[x for x in text.split()]\n",
    "l={i:k.count(i) for i  in k}\n",
    "# for i in k:\n",
    "#     k.count(i)\n",
    "#     l={i:count}\n",
    "\n",
    "print(l ,end=' ')\n",
    "\n",
    "# for i in range(len(text)):\n",
    "#     count=0\n",
    "#     for j in range(len(text)):\n",
    "#         if text[i].lower()==text[j].lower():\n",
    "#             count=count+1\n",
    "            \n",
    "#     list1.append((text[i],count))\n",
    "# #print(dict(list1))\n",
    "    \n",
    "    \n",
    "# print(list1)  "
   ]
  },
  {
   "cell_type": "code",
   "execution_count": 93,
   "id": "b0ee55ac",
   "metadata": {},
   "outputs": [
    {
     "data": {
      "text/plain": [
       "{1: 'hi', 2: 'hello', 3: 'bye'}"
      ]
     },
     "execution_count": 93,
     "metadata": {},
     "output_type": "execute_result"
    }
   ],
   "source": [
    "#3\n",
    "\n",
    "dict1={'hi':1,'hello':2,'bye':3}\n",
    "\n",
    "for key,value in dict1.items():\n",
    "    key1=dict1.pop(key)\n",
    "    dict1[value]=key\n",
    "dict1\n",
    "    "
   ]
  },
  {
   "cell_type": "code",
   "execution_count": 94,
   "id": "27b4d6fb",
   "metadata": {},
   "outputs": [
    {
     "data": {
      "text/plain": [
       "{1: 'hi', 2: 'hello', 3: 'bye'}"
      ]
     },
     "execution_count": 94,
     "metadata": {},
     "output_type": "execute_result"
    }
   ],
   "source": [
    "dict1={'hi':1,'hello':2,'bye':3}\n",
    "dic={dict1[i]: i for i in dict1}\n",
    "dic"
   ]
  },
  {
   "cell_type": "code",
   "execution_count": null,
   "id": "9e4c81f6",
   "metadata": {},
   "outputs": [],
   "source": []
  }
 ],
 "metadata": {
  "kernelspec": {
   "display_name": "Python 3 (ipykernel)",
   "language": "python",
   "name": "python3"
  },
  "language_info": {
   "codemirror_mode": {
    "name": "ipython",
    "version": 3
   },
   "file_extension": ".py",
   "mimetype": "text/x-python",
   "name": "python",
   "nbconvert_exporter": "python",
   "pygments_lexer": "ipython3",
   "version": "3.10.9"
  }
 },
 "nbformat": 4,
 "nbformat_minor": 5
}
