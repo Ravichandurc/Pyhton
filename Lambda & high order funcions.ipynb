{
 "cells": [
  {
   "cell_type": "markdown",
   "id": "3fc86f3f",
   "metadata": {},
   "source": [
    "# <center>Lambda\n",
    "    "
   ]
  },
  {
   "cell_type": "code",
   "execution_count": null,
   "id": "4c766fa3",
   "metadata": {
    "scrolled": true
   },
   "outputs": [],
   "source": [
    "from functools import reduce\n",
    "x=lambda x:x+10\n",
    "print(x(8))"
   ]
  },
  {
   "cell_type": "code",
   "execution_count": null,
   "id": "036d9c34",
   "metadata": {},
   "outputs": [],
   "source": []
  },
  {
   "cell_type": "code",
   "execution_count": null,
   "id": "e6bfb72c",
   "metadata": {},
   "outputs": [],
   "source": [
    "#if else in lambda\n",
    "\n",
    "result = lambda x : \"even\" if x %2==0 else \"odd\"\n",
    " \n",
    "print(result(11))"
   ]
  },
  {
   "cell_type": "code",
   "execution_count": 4,
   "id": "0a97d2b2",
   "metadata": {},
   "outputs": [
    {
     "data": {
      "text/plain": [
       "(5, 3, 8, 2.0)"
      ]
     },
     "execution_count": 4,
     "metadata": {},
     "output_type": "execute_result"
    }
   ],
   "source": [
    "my_lambda = lambda x: (\n",
    "    x + 1,\n",
    "    x - 1,\n",
    "    x * 2,\n",
    "    x / 2\n",
    ")\n",
    "my_lambda(4)"
   ]
  },
  {
   "cell_type": "code",
   "execution_count": null,
   "id": "a61aed71",
   "metadata": {},
   "outputs": [],
   "source": [
    "# filter \n",
    "\n",
    "list1=[1,2,3,4,5,6]\n",
    "k=list(filter(lambda x:x%2==0,list1))\n",
    "print(k)"
   ]
  },
  {
   "cell_type": "code",
   "execution_count": null,
   "id": "88d00f61",
   "metadata": {},
   "outputs": [],
   "source": [
    "#map\n",
    "\n",
    "list2=[1,2,3,4,5,6]\n",
    "k=list(map(lambda x:x**2,list2))\n",
    "print(k)"
   ]
  },
  {
   "cell_type": "code",
   "execution_count": 9,
   "id": "c9111fdf",
   "metadata": {},
   "outputs": [
    {
     "name": "stdout",
     "output_type": "stream",
     "text": [
      "[1, 4, 9, 16, 25, 36, 49, 64, 81]\n",
      "1 4 9 16 25 36 49 64 81 "
     ]
    }
   ],
   "source": [
    "#lambda function with list comprehension\n",
    "\n",
    "squares=[lambda num=num:num**2 for num in range(1,10)]\n",
    "ta=lambda n:[n*n for n in range(1,10)]\n",
    "\n",
    "print(ta(5))\n",
    "for square in squares:\n",
    "    print(square(),end=' ')"
   ]
  },
  {
   "cell_type": "markdown",
   "id": "38b5e6f9",
   "metadata": {},
   "source": []
  },
  {
   "cell_type": "code",
   "execution_count": null,
   "id": "fab2a78e",
   "metadata": {},
   "outputs": [],
   "source": [
    "#sorting using lambda\n",
    "\n",
    "mylist=[[1,2,3,4],[10,8,2,1],[7,6,2,9]]\n",
    "sortlist=lambda n:(sorted(n) for n in mylist)\n",
    "thirdllist=lambda num,func:[l[len(l)-2] for l in func(num)]\n",
    "\n",
    "result=thirdllist(mylist,sortlist)\n",
    "print(list(sortlist(mylist)))\n",
    "print(result)"
   ]
  },
  {
   "cell_type": "markdown",
   "id": "b910e392",
   "metadata": {},
   "source": [
    "# Exercise\n"
   ]
  },
  {
   "cell_type": "code",
   "execution_count": null,
   "id": "2f577265",
   "metadata": {},
   "outputs": [],
   "source": [
    "#create a lambda function that check given number is greater than 10 or not"
   ]
  },
  {
   "cell_type": "code",
   "execution_count": null,
   "id": "acb55329",
   "metadata": {},
   "outputs": [],
   "source": [
    "list1=lambda x:\"greater than 10\" if x>10 else \"Not greater than 10 \"\n",
    "a=int(input(\"Enter number\"))\n",
    "print(list1(a))"
   ]
  },
  {
   "cell_type": "code",
   "execution_count": null,
   "id": "2c3680a4",
   "metadata": {},
   "outputs": [],
   "source": [
    "# lambda for sum"
   ]
  },
  {
   "cell_type": "code",
   "execution_count": null,
   "id": "a5a72624",
   "metadata": {},
   "outputs": [],
   "source": [
    "sum1=lambda x,y:x+y\n",
    "a=int(input(\"enter number 1:\"))\n",
    "b=int(input(\"enter number 2:\"))\n",
    "\n",
    "print(\"sum is:\",sum1(a,b))"
   ]
  },
  {
   "cell_type": "code",
   "execution_count": null,
   "id": "d7154855",
   "metadata": {},
   "outputs": [],
   "source": [
    "# lambda to sort dict\n",
    "people=[{\"name\":\"john\",\"age\":25},{\"name\":\"Alice\",\"age\":30},{\"name\":\"Bob\",\"age\":20}]\n",
    "#sort=lambda x:(sorted(x.items()) for x in people)\n",
    "#print(list(sort(people)))\n",
    "print(sorted(people,key=lambda x:x['name']))\n"
   ]
  },
  {
   "cell_type": "code",
   "execution_count": 24,
   "id": "90f3c256",
   "metadata": {},
   "outputs": [
    {
     "name": "stdout",
     "output_type": "stream",
     "text": [
      "[1, 2, 3, 5, 7]\n"
     ]
    }
   ],
   "source": [
    "li=[1,2,3,4,5,6,7,8,9,10]\n",
    "prime=lambda n:[(False if n%i==0  else True )for i in range(2,n) ]\n",
    "f=list(filter(lambda n:all(prime(n)),li))\n",
    "print(f)"
   ]
  },
  {
   "cell_type": "code",
   "execution_count": 13,
   "id": "2031c3db",
   "metadata": {},
   "outputs": [
    {
     "name": "stdout",
     "output_type": "stream",
     "text": [
      "[5, 1, 9, 6, 2, 0]\n"
     ]
    }
   ],
   "source": [
    "\n",
    "nums = [5, 1, 9, 6, 2, 0]\n",
    "\n",
    "prime = lambda x: all(i for i in range(2, int(x/2) + 1) if x % i != 0)\n",
    "prime1 = list(filter(prime, nums))\n",
    "print(prime1)"
   ]
  },
  {
   "cell_type": "code",
   "execution_count": 25,
   "id": "24da6eae",
   "metadata": {},
   "outputs": [
    {
     "name": "stdout",
     "output_type": "stream",
     "text": [
      "2 3 5 7\n"
     ]
    }
   ],
   "source": [
    "lst=[1,2,3,4,5,6,7]\n",
    "prime= lambda n: all(n%i!=0 for i in range(2,n))and n>1\n",
    "k=list((filter(prime,lst)))\n",
    "print(*k)"
   ]
  },
  {
   "cell_type": "code",
   "execution_count": 10,
   "id": "2a21d9b7",
   "metadata": {},
   "outputs": [
    {
     "name": "stdout",
     "output_type": "stream",
     "text": [
      "[0, 1, 1, 2, 3, 5, 8, 13, 21, 34]\n"
     ]
    }
   ],
   "source": [
    "numbers=[0,1]\n",
    "\n",
    "fib=lambda n:list(map(lambda x:numbers.append(numbers[-1]+numbers[-2]),range(n-2)))\n",
    "fib(10)\n",
    "print(numbers) "
   ]
  },
  {
   "cell_type": "code",
   "execution_count": 11,
   "id": "e34ad1e2",
   "metadata": {},
   "outputs": [
    {
     "name": "stdout",
     "output_type": "stream",
     "text": [
      "[0, 1, 1, 2, 3, 5, 8, 13, 21, 34]\n"
     ]
    }
   ],
   "source": [
    "\n",
    "numbers=[0,1]\n",
    "fib=list(map(lambda x:numbers.append(numbers[-1]+numbers[-2]),range(10-2)))\n",
    "print(numbers)\n",
    "\n"
   ]
  },
  {
   "cell_type": "code",
   "execution_count": 26,
   "id": "5d2a086d",
   "metadata": {},
   "outputs": [
    {
     "ename": "NameError",
     "evalue": "name 'n' is not defined",
     "output_type": "error",
     "traceback": [
      "\u001b[1;31m---------------------------------------------------------------------------\u001b[0m",
      "\u001b[1;31mNameError\u001b[0m                                 Traceback (most recent call last)",
      "Cell \u001b[1;32mIn[26], line 3\u001b[0m\n\u001b[0;32m      1\u001b[0m numbers\u001b[38;5;241m=\u001b[39m[\u001b[38;5;241m0\u001b[39m,\u001b[38;5;241m1\u001b[39m]\n\u001b[1;32m----> 3\u001b[0m fib\u001b[38;5;241m=\u001b[39m\u001b[38;5;28mlist\u001b[39m(\u001b[38;5;28mmap\u001b[39m(\u001b[38;5;28;01mlambda\u001b[39;00m n:numbers\u001b[38;5;241m.\u001b[39mappend(numbers[\u001b[38;5;241m-\u001b[39m\u001b[38;5;241m1\u001b[39m]\u001b[38;5;241m+\u001b[39mnumbers[\u001b[38;5;241m-\u001b[39m\u001b[38;5;241m2\u001b[39m]),\u001b[38;5;28mrange\u001b[39m(\u001b[43mn\u001b[49m\u001b[38;5;241m-\u001b[39m\u001b[38;5;241m2\u001b[39m)))\n\u001b[0;32m      4\u001b[0m fib(\u001b[38;5;241m10\u001b[39m)\n\u001b[0;32m      5\u001b[0m \u001b[38;5;28mprint\u001b[39m(numbers)\n",
      "\u001b[1;31mNameError\u001b[0m: name 'n' is not defined"
     ]
    }
   ],
   "source": [
    "numbers=[0,1]\n",
    "\n",
    "fib=list(map(lambda n:numbers.append(numbers[-1]+numbers[-2]),range(n-2)))\n",
    "fib(10)\n",
    "print(numbers)"
   ]
  },
  {
   "cell_type": "markdown",
   "id": "901b3725",
   "metadata": {},
   "source": [
    "# <center> Recursive Function"
   ]
  },
  {
   "cell_type": "code",
   "execution_count": 1,
   "id": "5586ea15",
   "metadata": {},
   "outputs": [
    {
     "data": {
      "text/plain": [
       "120"
      ]
     },
     "execution_count": 1,
     "metadata": {},
     "output_type": "execute_result"
    }
   ],
   "source": [
    "def refact(n):\n",
    "    if n==0:\n",
    "        return 1\n",
    "    else:\n",
    "        p=n*refact(n-1)\n",
    "        return p\n",
    "refact(5)"
   ]
  },
  {
   "cell_type": "markdown",
   "id": "ca495c87",
   "metadata": {},
   "source": [
    "### HIgh order function"
   ]
  },
  {
   "cell_type": "code",
   "execution_count": 3,
   "id": "9e0e7f3a",
   "metadata": {},
   "outputs": [
    {
     "name": "stdout",
     "output_type": "stream",
     "text": [
      "high order functions\n"
     ]
    }
   ],
   "source": [
    "def res(fun):\n",
    "    fun()\n",
    "    \n",
    "def kes():\n",
    "    print(\"high order functions\")\n",
    "res(kes)"
   ]
  },
  {
   "cell_type": "code",
   "execution_count": 8,
   "id": "2315f325",
   "metadata": {},
   "outputs": [
    {
     "name": "stdout",
     "output_type": "stream",
     "text": [
      "hi this is the \n",
      "HI THIS IS THE \n"
     ]
    }
   ],
   "source": [
    "def lower(text):\n",
    "    return text.lower()\n",
    "def upper(text):\n",
    "    return text.upper()\n",
    "def text(func):\n",
    "    sent=func(\"hi THIS is tHe \")\n",
    "    print(sent)\n",
    "text(lower)\n",
    "text(upper)"
   ]
  },
  {
   "cell_type": "code",
   "execution_count": 2,
   "id": "cd4bbd17",
   "metadata": {},
   "outputs": [
    {
     "name": "stdout",
     "output_type": "stream",
     "text": [
      "['In', 'Out', '_', '_1', '__', '___', '__builtin__', '__builtins__', '__doc__', '__loader__', '__name__', '__package__', '__spec__', '_dh', '_i', '_i1', '_i2', '_ih', '_ii', '_iii', '_oh', 'exit', 'get_ipython', 'open', 'quit']\n"
     ]
    }
   ],
   "source": []
  }
 ],
 "metadata": {
  "kernelspec": {
   "display_name": "Python 3 (ipykernel)",
   "language": "python",
   "name": "python3"
  },
  "language_info": {
   "codemirror_mode": {
    "name": "ipython",
    "version": 3
   },
   "file_extension": ".py",
   "mimetype": "text/x-python",
   "name": "python",
   "nbconvert_exporter": "python",
   "pygments_lexer": "ipython3",
   "version": "3.10.9"
  }
 },
 "nbformat": 4,
 "nbformat_minor": 5
}
