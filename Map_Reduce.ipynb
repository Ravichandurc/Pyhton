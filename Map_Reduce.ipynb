{
 "cells": [
  {
   "cell_type": "code",
   "execution_count": 1,
   "id": "27652807",
   "metadata": {},
   "outputs": [],
   "source": [
    "#mapper split\n",
    "q=[]\n",
    "with open(\"host.txt\",'r') as f:\n",
    "    for i in f:\n",
    "        x=i.split()\n",
    "        q.append([x[1],int(x[3])+int(x[4])+int(x[5])+int(x[6])])\n",
    "        "
   ]
  },
  {
   "cell_type": "code",
   "execution_count": 2,
   "id": "ec021ec0",
   "metadata": {},
   "outputs": [
    {
     "data": {
      "text/plain": [
       "[['RangaSwamy', 10500],\n",
       " ['lakshmi', 10000],\n",
       " ['sailaja', 8500],\n",
       " ['chamandi', 17000],\n",
       " ['aruna', 9000],\n",
       " ['swapna', 10500],\n",
       " ['RangaSwamy', 9500],\n",
       " ['lakshmi', 9000],\n",
       " ['sailaja', 7500],\n",
       " ['chamandi', 16000],\n",
       " ['aruna', 8000],\n",
       " ['swapna', 5550],\n",
       " ['RangaSwamy', 10500],\n",
       " ['lakshmi', 10000],\n",
       " ['sailaja', 8500],\n",
       " ['chamandi', 17000],\n",
       " ['aruna', 9000],\n",
       " ['swapna', 10500],\n",
       " ['RangaSwamy', 9500],\n",
       " ['lakshmi', 9000],\n",
       " ['sailaja', 7500],\n",
       " ['chamandi', 16000],\n",
       " ['aruna', 8000],\n",
       " ['swapna', 5550],\n",
       " ['RangaSwamy', 10500],\n",
       " ['lakshmi', 10000],\n",
       " ['sailaja', 8500],\n",
       " ['chamandi', 17000],\n",
       " ['aruna', 9000],\n",
       " ['swapna', 10500]]"
      ]
     },
     "execution_count": 2,
     "metadata": {},
     "output_type": "execute_result"
    }
   ],
   "source": [
    "q"
   ]
  },
  {
   "cell_type": "code",
   "execution_count": 3,
   "id": "29cb73de",
   "metadata": {},
   "outputs": [],
   "source": [
    "#shuffling\n",
    "name=[]\n",
    "for i in q:\n",
    "  name.append(i[0])  "
   ]
  },
  {
   "cell_type": "code",
   "execution_count": 4,
   "id": "4ddf32d7",
   "metadata": {},
   "outputs": [
    {
     "data": {
      "text/plain": [
       "['RangaSwamy',\n",
       " 'lakshmi',\n",
       " 'sailaja',\n",
       " 'chamandi',\n",
       " 'aruna',\n",
       " 'swapna',\n",
       " 'RangaSwamy',\n",
       " 'lakshmi',\n",
       " 'sailaja',\n",
       " 'chamandi',\n",
       " 'aruna',\n",
       " 'swapna',\n",
       " 'RangaSwamy',\n",
       " 'lakshmi',\n",
       " 'sailaja',\n",
       " 'chamandi',\n",
       " 'aruna',\n",
       " 'swapna',\n",
       " 'RangaSwamy',\n",
       " 'lakshmi',\n",
       " 'sailaja',\n",
       " 'chamandi',\n",
       " 'aruna',\n",
       " 'swapna',\n",
       " 'RangaSwamy',\n",
       " 'lakshmi',\n",
       " 'sailaja',\n",
       " 'chamandi',\n",
       " 'aruna',\n",
       " 'swapna']"
      ]
     },
     "execution_count": 4,
     "metadata": {},
     "output_type": "execute_result"
    }
   ],
   "source": [
    "name"
   ]
  },
  {
   "cell_type": "code",
   "execution_count": 5,
   "id": "4fb1043b",
   "metadata": {},
   "outputs": [],
   "source": [
    "name=set(name)"
   ]
  },
  {
   "cell_type": "code",
   "execution_count": 6,
   "id": "4edca8df",
   "metadata": {},
   "outputs": [
    {
     "data": {
      "text/plain": [
       "{'RangaSwamy', 'aruna', 'chamandi', 'lakshmi', 'sailaja', 'swapna'}"
      ]
     },
     "execution_count": 6,
     "metadata": {},
     "output_type": "execute_result"
    }
   ],
   "source": [
    "name"
   ]
  },
  {
   "cell_type": "code",
   "execution_count": 7,
   "id": "8c01e97d",
   "metadata": {},
   "outputs": [],
   "source": [
    "dic={}"
   ]
  },
  {
   "cell_type": "code",
   "execution_count": 8,
   "id": "8f03d965",
   "metadata": {},
   "outputs": [],
   "source": [
    "for i in name:\n",
    "    dic[i]=[]\n",
    "    "
   ]
  },
  {
   "cell_type": "code",
   "execution_count": 9,
   "id": "5272d0ad",
   "metadata": {},
   "outputs": [
    {
     "data": {
      "text/plain": [
       "{'sailaja': [],\n",
       " 'aruna': [],\n",
       " 'chamandi': [],\n",
       " 'lakshmi': [],\n",
       " 'swapna': [],\n",
       " 'RangaSwamy': []}"
      ]
     },
     "execution_count": 9,
     "metadata": {},
     "output_type": "execute_result"
    }
   ],
   "source": [
    "dic"
   ]
  },
  {
   "cell_type": "code",
   "execution_count": 10,
   "id": "8a201440",
   "metadata": {},
   "outputs": [],
   "source": [
    "for i in dic:\n",
    "    for j in q:\n",
    "        if i==j[0]:\n",
    "            dic[i].append(j[1])"
   ]
  },
  {
   "cell_type": "code",
   "execution_count": 11,
   "id": "3a4577ff",
   "metadata": {},
   "outputs": [
    {
     "data": {
      "text/plain": [
       "{'sailaja': [8500, 7500, 8500, 7500, 8500],\n",
       " 'aruna': [9000, 8000, 9000, 8000, 9000],\n",
       " 'chamandi': [17000, 16000, 17000, 16000, 17000],\n",
       " 'lakshmi': [10000, 9000, 10000, 9000, 10000],\n",
       " 'swapna': [10500, 5550, 10500, 5550, 10500],\n",
       " 'RangaSwamy': [10500, 9500, 10500, 9500, 10500]}"
      ]
     },
     "execution_count": 11,
     "metadata": {},
     "output_type": "execute_result"
    }
   ],
   "source": [
    "dic"
   ]
  },
  {
   "cell_type": "code",
   "execution_count": 12,
   "id": "14c0944f",
   "metadata": {},
   "outputs": [],
   "source": [
    "#sorting\n",
    "dic={key: dic[key] for key in sorted(dic)}"
   ]
  },
  {
   "cell_type": "code",
   "execution_count": 13,
   "id": "7c564d52",
   "metadata": {},
   "outputs": [
    {
     "data": {
      "text/plain": [
       "{'RangaSwamy': [10500, 9500, 10500, 9500, 10500],\n",
       " 'aruna': [9000, 8000, 9000, 8000, 9000],\n",
       " 'chamandi': [17000, 16000, 17000, 16000, 17000],\n",
       " 'lakshmi': [10000, 9000, 10000, 9000, 10000],\n",
       " 'sailaja': [8500, 7500, 8500, 7500, 8500],\n",
       " 'swapna': [10500, 5550, 10500, 5550, 10500]}"
      ]
     },
     "execution_count": 13,
     "metadata": {},
     "output_type": "execute_result"
    }
   ],
   "source": [
    "dic"
   ]
  },
  {
   "cell_type": "code",
   "execution_count": 14,
   "id": "4955279e",
   "metadata": {},
   "outputs": [],
   "source": [
    "#reducer\n"
   ]
  },
  {
   "cell_type": "code",
   "execution_count": 15,
   "id": "65c1fdd6",
   "metadata": {},
   "outputs": [],
   "source": [
    "res={}\n",
    "for i in dic:\n",
    "    sum=0\n",
    "    for j in dic[i]:\n",
    "        sum=sum+j\n",
    "    res[i]=sum"
   ]
  },
  {
   "cell_type": "code",
   "execution_count": 16,
   "id": "fd2f9d8d",
   "metadata": {},
   "outputs": [
    {
     "data": {
      "text/plain": [
       "{'RangaSwamy': 50500,\n",
       " 'aruna': 43000,\n",
       " 'chamandi': 83000,\n",
       " 'lakshmi': 48000,\n",
       " 'sailaja': 40500,\n",
       " 'swapna': 42600}"
      ]
     },
     "execution_count": 16,
     "metadata": {},
     "output_type": "execute_result"
    }
   ],
   "source": [
    "res"
   ]
  },
  {
   "cell_type": "code",
   "execution_count": 75,
   "id": "e7ae73d5",
   "metadata": {},
   "outputs": [
    {
     "name": "stdout",
     "output_type": "stream",
     "text": [
      "['ab', 'abc', 'abcde', 'abcfverth']\n",
      "ab\n"
     ]
    }
   ],
   "source": [
    "li = ['abcde', 'abc', 'abcfverth', 'ab']\n",
    "li.sort(key=lambda x:len(x))\n",
    "#print(li)\n",
    "temp=li[0]\n",
    "for i in li:\n",
    "    l=''\n",
    "    for j,k in enumerate(i,start=1):\n",
    "        if j<=len(temp) and temp[j-1]==k:\n",
    "            l+=k\n",
    "        else: \n",
    "            break\n",
    "    temp=l\n",
    "    \n",
    "print(temp)\n",
    " \n",
    "\n",
    "\n",
    "\n",
    "\n",
    "\n",
    "\n",
    "\n",
    "\n",
    "\n"
   ]
  },
  {
   "cell_type": "code",
   "execution_count": 1,
   "id": "8e261919",
   "metadata": {},
   "outputs": [
    {
     "ename": "NameError",
     "evalue": "name 'res' is not defined",
     "output_type": "error",
     "traceback": [
      "\u001b[1;31m---------------------------------------------------------------------------\u001b[0m",
      "\u001b[1;31mNameError\u001b[0m                                 Traceback (most recent call last)",
      "Cell \u001b[1;32mIn[1], line 1\u001b[0m\n\u001b[1;32m----> 1\u001b[0m \u001b[38;5;28mmax\u001b[39m(\u001b[43mres\u001b[49m, key\u001b[38;5;241m=\u001b[39mres\u001b[38;5;241m.\u001b[39mget)\n",
      "\u001b[1;31mNameError\u001b[0m: name 'res' is not defined"
     ]
    }
   ],
   "source": [
    "max(res, key=res.get)"
   ]
  },
  {
   "cell_type": "code",
   "execution_count": 46,
   "id": "9829fb2d",
   "metadata": {},
   "outputs": [],
   "source": [
    "lli = ['abcde', 'abcd', 'abcverth', 'bc']"
   ]
  },
  {
   "cell_type": "code",
   "execution_count": 48,
   "id": "8f2ee06c",
   "metadata": {},
   "outputs": [
    {
     "name": "stdout",
     "output_type": "stream",
     "text": [
      "1 b\n",
      "1 a\n"
     ]
    },
    {
     "ename": "IndexError",
     "evalue": "string index out of range",
     "output_type": "error",
     "traceback": [
      "\u001b[1;31m---------------------------------------------------------------------------\u001b[0m",
      "\u001b[1;31mIndexError\u001b[0m                                Traceback (most recent call last)",
      "Cell \u001b[1;32mIn[48], line 9\u001b[0m\n\u001b[0;32m      7\u001b[0m \u001b[38;5;28;01mfor\u001b[39;00m k,l \u001b[38;5;129;01min\u001b[39;00m \u001b[38;5;28menumerate\u001b[39m (i,start\u001b[38;5;241m=\u001b[39m\u001b[38;5;241m1\u001b[39m):\n\u001b[0;32m      8\u001b[0m     \u001b[38;5;28mprint\u001b[39m(k,l)\n\u001b[1;32m----> 9\u001b[0m     \u001b[38;5;28;01mif\u001b[39;00m \u001b[43mtemp\u001b[49m\u001b[43m[\u001b[49m\u001b[43mk\u001b[49m\u001b[43m]\u001b[49m\u001b[38;5;241m!=\u001b[39ml:\n\u001b[0;32m     10\u001b[0m         \u001b[38;5;28;01mbreak\u001b[39;00m\n\u001b[0;32m     11\u001b[0m     \u001b[38;5;28;01melse\u001b[39;00m:\n",
      "\u001b[1;31mIndexError\u001b[0m: string index out of range"
     ]
    }
   ],
   "source": [
    "lli.sort(key=lambda x: len(x), reverse=False)\n",
    "temp=lli[0]\n",
    "t=''\n",
    "#print(temp)\n",
    "for i in lli:\n",
    "    #print(len(i))\n",
    "    for k,l in enumerate (i,start=1):\n",
    "        #print(k,l)\n",
    "        if temp[k]!=l:\n",
    "            t+=l\n",
    "        else:\n",
    "            break\n",
    "    temp=t\n",
    "    #print(temp)\n",
    "            \n",
    "        \n",
    "print(temp)"
   ]
  },
  {
   "cell_type": "code",
   "execution_count": 18,
   "id": "fd850dfe",
   "metadata": {},
   "outputs": [
    {
     "name": "stdout",
     "output_type": "stream",
     "text": [
      "ab\n"
     ]
    }
   ],
   "source": [
    "string1 = \"a\"\n",
    "string2 = \"b\"\n",
    "\n",
    "string1 += string2\n",
    "print(string1)\n"
   ]
  },
  {
   "cell_type": "code",
   "execution_count": 67,
   "id": "d4816248",
   "metadata": {},
   "outputs": [
    {
     "name": "stdout",
     "output_type": "stream",
     "text": [
      "abc\n"
     ]
    }
   ],
   "source": [
    "lli = ['abcde', 'abc', 'abcfverth', 'abc']\n",
    "lli.sort(key=lambda x: len(x))\n",
    "temp = lli[0]\n",
    "for i in lli:\n",
    "    t = ''\n",
    "    for k, l in enumerate(i, start=1):\n",
    "        if k <= len(temp) and temp[k - 1] == l:\n",
    "            t += l\n",
    "        else:\n",
    "            break\n",
    "    temp = t\n",
    "print(temp)\n"
   ]
  }
 ],
 "metadata": {
  "kernelspec": {
   "display_name": "Python 3 (ipykernel)",
   "language": "python",
   "name": "python3"
  },
  "language_info": {
   "codemirror_mode": {
    "name": "ipython",
    "version": 3
   },
   "file_extension": ".py",
   "mimetype": "text/x-python",
   "name": "python",
   "nbconvert_exporter": "python",
   "pygments_lexer": "ipython3",
   "version": "3.10.9"
  }
 },
 "nbformat": 4,
 "nbformat_minor": 5
}
