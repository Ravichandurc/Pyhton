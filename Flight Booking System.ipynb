{
 "cells": [
  {
   "cell_type": "markdown",
   "id": "44afae85",
   "metadata": {},
   "source": [
    "# <center>Flight Booking System"
   ]
  },
  {
   "cell_type": "raw",
   "id": "b279498f",
   "metadata": {},
   "source": [
    "Description: You are tasked with creating a flight booking system using Python. The system should allow users to search for flights, book seats, manage bookings, and generate reports. The system should handle multiple flights, seat availability, and customer bookings."
   ]
  },
  {
   "cell_type": "code",
   "execution_count": 3,
   "id": "95014a20",
   "metadata": {},
   "outputs": [],
   "source": [
    "import numpy as np\n",
    "from datetime import datetime,timedelta\n",
    "\n",
    "flight_deatils1=[[1234,'JetBlue','vijayawada','chennai','28-07-2023',30,30,30,[]],[1345,'Indigo','Bangalore','chennai','28-07-2023',30,30,30,[]],\n",
    "                 [4564,'Emirates','vijayawada','chennai','28-07-2023',30,30,30,[]],\n",
    "                [14,'Indigo','chennai','bangalore','28-07-2023',30,30,30,[]],[124,'JetBlue','chennai','vijayawada','28-07-2023',30,30,30,[]],\n",
    "                 [124,'Emirates','bangalore','chennai','28-07-2023',30,30,30,[]],[1245,'Indigo','bangalore','vijayawada','28-07-2023',30,30,30,[]],   \n",
    "                ]\n",
    "# flight_deatils=[{'vijayawada':[[1234,'Indigo','chennai','28-06-2023'],\n",
    "#                                [145,'Indigo','bangalore','28-06-2023']\n",
    "#                               ],\n",
    "#                  'chennai':[[14,'Indigo','bangalore','28-06-2023'],\n",
    "#                             [124,'Indigo','vijayawada','28-06-2023']\n",
    "#                            ]\n",
    "                 \n",
    "        \n",
    "#                 }]\n",
    "\n",
    "# for k in flight_deatils1:\n",
    "#     if (k[2]=='vijayawada' and k[3]=='chennai' and k[4]=='28-06-2023'):\n",
    "#         print(k)\n",
    "# for i in flight_deatils:\n",
    "#     for j in i['vijayawada']:\n",
    "#         for l in j:\n",
    "#             if l[2]=='chennai' and l[3]=='28/06/2023':\n",
    "#                 print(j)\n",
    "            \n",
    "#     print(i['vijayawada'])\n"
   ]
  },
  {
   "cell_type": "code",
   "execution_count": null,
   "id": "f476c00e",
   "metadata": {},
   "outputs": [],
   "source": []
  },
  {
   "cell_type": "code",
   "execution_count": null,
   "id": "06c82a74",
   "metadata": {},
   "outputs": [],
   "source": []
  },
  {
   "cell_type": "code",
   "execution_count": null,
   "id": "0aa76aaf",
   "metadata": {},
   "outputs": [],
   "source": []
  },
  {
   "cell_type": "code",
   "execution_count": null,
   "id": "009f0f4a",
   "metadata": {},
   "outputs": [],
   "source": []
  },
  {
   "cell_type": "code",
   "execution_count": null,
   "id": "73c0a7ad",
   "metadata": {},
   "outputs": [],
   "source": [
    "\n",
    "def valid():\n",
    "    present = datetime.now()\n",
    "    result = present + timedelta(minutes=50)\n",
    "    date = present.strftime(\"%H:%M:%S\")\n",
    "    result1 = result.strftime(\"%H:%M:%S\")\n",
    "    time_difference = datetime.strptime(result1, \"%H:%M:%S\") - datetime.strptime(date, \"%H:%M:%S\")\n",
    "    difference_seconds = time_difference.total_seconds()\n",
    "\n",
    "    #print(\"Time difference in seconds:\", difference_seconds)\n",
    "    print(\"Time difference:\", time_difference)\n",
    "    \n",
    "\n",
    "valid()"
   ]
  },
  {
   "cell_type": "code",
   "execution_count": null,
   "id": "97cced2d",
   "metadata": {},
   "outputs": [],
   "source": [
    "def valid():\n",
    "    present = datetime.now()\n",
    "    result = present + timedelta(minutes=50)\n",
    "    date = present.strftime(\"%H:%M:%S\")\n",
    "    result1 = result.strftime(\"%H:%M:%S\")\n",
    "    \n",
    "    time_difference = (datetime.strptime(result1, \"%H:%M:%S\") - datetime.strptime(date, \"%H:%M:%S\")) % timedelta(days=1)\n",
    "    difference_seconds = time_difference.total_seconds()\n",
    "\n",
    "    print(\"Time difference:\", time_difference)\n",
    "    print(\"Time difference in seconds:\", difference_seconds)\n",
    "\n",
    "valid()"
   ]
  },
  {
   "cell_type": "code",
   "execution_count": null,
   "id": "fb9dc3b7",
   "metadata": {},
   "outputs": [],
   "source": []
  },
  {
   "cell_type": "code",
   "execution_count": null,
   "id": "9fd5a1a5",
   "metadata": {},
   "outputs": [],
   "source": [
    "def all_flight():\n",
    "    for af in flight_deatils1:\n",
    "        print('id:',af[0],'\\n','Flight_type:',af[1],'\\n','origin:',af[2],'\\n','destination:',af[3],'\\n','date:',af[4],'\\n','Seat_available:',af[5]+af[6]+af[7])"
   ]
  },
  {
   "cell_type": "code",
   "execution_count": null,
   "id": "77450631",
   "metadata": {},
   "outputs": [],
   "source": [
    "def avilable_flight():\n",
    "    flag=True\n",
    "    present=datetime.now()\n",
    "    \n",
    "    \n",
    "    origin=input(\"Enter the origin details:\")\n",
    "    destination=input(\"Enter the destination details:\")\n",
    "    date=input(\"Enter the date in dd-mm-yyyy format :\")\n",
    "    date1=datetime.strptime(date,'%d-%m-%Y')\n",
    "    if(date1<present):\n",
    "        print(\"Invalid date\")\n",
    "        return 0\n",
    "    else:\n",
    "        pass\n",
    "    for k in flight_deatils1: \n",
    "        if (k[2]==origin and k[3]==destination and k[4]==date):\n",
    "            print('id:',k[0],'\\n','Flight_type:',k[1],'\\n','origin:',k[2],'\\n','destination:',k[3],'\\n','date:',k[4],'\\n','Seat_available:',k[5]+k[6]+k[7])\n",
    "            flag=False\n",
    "    if(flag==True):\n",
    "        print(\"No flight Available\")\n",
    "    \n",
    "        \n",
    "#avilable_flight()"
   ]
  },
  {
   "cell_type": "code",
   "execution_count": null,
   "id": "1ee0f3dd",
   "metadata": {},
   "outputs": [],
   "source": [
    "import numpy as np\n",
    "\n",
    "seatnumber = np.random.randint(0, 30)\n",
    "list1 = [1, 2, 3, 4, 5,10,20,30,40]\n",
    "\n",
    "filtered_list = list(filter(lambda x: x != seatnumber, list1))\n",
    "\n",
    "print(seatnumber)\n",
    "print(filtered_list)"
   ]
  },
  {
   "cell_type": "code",
   "execution_count": null,
   "id": "9e9493d8",
   "metadata": {},
   "outputs": [],
   "source": []
  },
  {
   "cell_type": "code",
   "execution_count": null,
   "id": "9847a14d",
   "metadata": {},
   "outputs": [],
   "source": [
    "passenger_details=[]\n",
    "def seat_selection():\n",
    "    flag=True\n",
    "    flight_number=int(input(\"Enter the flight number:\"))\n",
    "    for fn in flight_deatils1:\n",
    "        if(fn[0]==flight_number):\n",
    "            print(\"Flight is available\")\n",
    "            book_id=np.random.randint(100000000)\n",
    "            name=input(\"Enter Passenger Name:\")\n",
    "            phno=input(\"Enter Phone Number:\")\n",
    "            print(\"Enter The seat type:\\n1.window\\n2.middle\\n3.aisle\")\n",
    "            ch=int(input())\n",
    "            seatnumber = np.random.randint(0, 90)\n",
    "            list1 =fn[8]\n",
    "            if(len(list1)!=0):\n",
    "                filtered_list = list(filter(lambda x: x != seatnumber, list1))\n",
    "            else:\n",
    "                filtered_list=seatnumber\n",
    "            if(ch==1):\n",
    "                seattype='window'\n",
    "                seatnumber='W'+str(filtered_list)\n",
    "                print(seatnumber)\n",
    "                print(filtered_list)\n",
    "                fn[5]=fn[5]-1\n",
    "            elif(ch==2):\n",
    "                seattype='middle'\n",
    "                seatnumber='M'+str(filtered_list)\n",
    "                print(seatnumber)\n",
    "                print(filtered_list)\n",
    "                fn[6]=fn[6]-1\n",
    "            elif(ch==3):\n",
    "                seattype='aisle'\n",
    "                seatnumber='A'+str(filtered_list)\n",
    "                print(seatnumber)\n",
    "                print(filtered_list)\n",
    "                fn[7]=fn[7]-1\n",
    "            else:\n",
    "                print(\"Select from above option\")\n",
    "                \n",
    "            passenger_details.append([fn[0],book_id,seattype,fn[2],fn[3],fn[4],name,phno,fn[1],seatnumber,filtered_list])\n",
    "            print(\"Flight_number:\",fn[0],'\\n',\"booking_id:\",book_id,'\\n',\"seat type:\",seattype,'\\n','origin:',fn[2],'\\n','destination:',fn[3],'\\n','date:',fn[4],'\\n','Flight_type:',fn[1],'\\n','Seat number:',seatnumber)\n",
    "            print(\"Booking Confirmed\")\n",
    "            flag=False\n",
    "            pass\n",
    "    if(flag==True):\n",
    "        print(\"No flight Available with Id:\",flight_number)\n",
    "        "
   ]
  },
  {
   "cell_type": "code",
   "execution_count": 1,
   "id": "5a0c6eda",
   "metadata": {},
   "outputs": [],
   "source": [
    "def Search_Booking_deatils():\n",
    "    flag=True\n",
    "    #print(passenger_details)\n",
    "    book_number=int(input(\"Enter the Booking  Id number:\"))\n",
    "    for bi in passenger_details:\n",
    "        if bi[1]==book_number:\n",
    "            print(\"Booking details are :\")\n",
    "#             if(bi[2]=='window'):\n",
    "#                 fn[5]=fn[5]-1\n",
    "#             elif(bi[2]=='middle'):\n",
    "#                 fn[6]=fn[6]-1\n",
    "#             elif(bi[2]=='aisle'):\n",
    "#                 fn[7]=fn[7]-1\n",
    "            \n",
    "#             passenger_details.remove(bi)\n",
    "#             Print(\"Booking Cancelled:\")\n",
    "            \n",
    "            #print([bi[0],bi[1],bi[2],bi[3],bi[4],bi[5],bi[6],bi[7]])\n",
    "            print(\"Flight_number:\",bi[0],'\\n',\"booking_id:\",bi[1],'\\n',\"seat type:\",bi[2],'\\n','origin:',bi[3],'\\n','destination:',bi[4],'\\n','date:',bi[5],'\\n','Flight_type:',bi[6],'\\n','Seat number:',bi[10])\n",
    "            flag=False\n",
    "    if(flag==True):\n",
    "        print(\"No Booking Available with Id:\",book_number)\n",
    "            \n",
    "    "
   ]
  },
  {
   "cell_type": "code",
   "execution_count": 2,
   "id": "44b77b31",
   "metadata": {},
   "outputs": [],
   "source": [
    "def allBookingdetails():\n",
    "    for bi in passenger_details:\n",
    "        print(\"Flight_number:\",bi[0],'\\n',\"booking_id:\",bi[1],'\\n',\"seat type:\",bi[2],'\\n','origin:',bi[3],'\\n','destination:',bi[4],'\\n','date:',bi[5],'\\n','Flight_type:',bi[6],'\\n','Seat number:',bi[10])"
   ]
  },
  {
   "cell_type": "code",
   "execution_count": null,
   "id": "adc29425",
   "metadata": {},
   "outputs": [],
   "source": []
  },
  {
   "cell_type": "code",
   "execution_count": null,
   "id": "5df1486c",
   "metadata": {},
   "outputs": [],
   "source": [
    "def flight_occurance():\n",
    "    dict1 = {}\n",
    "    tempdict={}\n",
    "    for sublist in passenger_details:\n",
    "        value = sublist[8]\n",
    "        if value in dict1:\n",
    "            dict1[value] += 1\n",
    "        else:\n",
    "            dict1[value] = 1\n",
    "        value2=sublist[3]\n",
    "        if value2 in tempdict:\n",
    "            tempdict[value2] += 1\n",
    "        else:\n",
    "            tempdict[value2] = 1\n",
    "    \n",
    "    for key, value in dict1.items():\n",
    "        print(\"Total Booking for\", key + \":\", value)\n",
    "    sorted_dict = dict(sorted(tempdict.items(), key=lambda x: x[1]))\n",
    "    val=list(sorted_dict.keys()[0])\n",
    "    print(\"More number of Booking are happening from :\",val)\n",
    "\n",
    "        "
   ]
  },
  {
   "cell_type": "code",
   "execution_count": null,
   "id": "ef8667c8",
   "metadata": {},
   "outputs": [],
   "source": [
    "from datetime import timedelta\n",
    "\n",
    "timedeltas = [timedelta(seconds=43), timedelta(seconds=58)]\n",
    "\n",
    "total_timedelta =sum(timedeltas, timedelta())  # Initialize the total as timedelta 0\n",
    "average_timedelta = total_timedelta / len(timedeltas)\n",
    "\n",
    "print(\"Average time:\", average_timedelta)"
   ]
  },
  {
   "cell_type": "code",
   "execution_count": null,
   "id": "3a0b739a",
   "metadata": {},
   "outputs": [],
   "source": []
  },
  {
   "cell_type": "code",
   "execution_count": null,
   "id": "58dcb982",
   "metadata": {},
   "outputs": [],
   "source": []
  },
  {
   "cell_type": "code",
   "execution_count": null,
   "id": "d4c5cbaf",
   "metadata": {},
   "outputs": [],
   "source": [
    "def cancel_booking():\n",
    "    flag=True\n",
    "    book_number=int(input(\"Enter the Booking Id number:\"))\n",
    "    for bi in passenger_details:\n",
    "        \n",
    "        if bi[1]==book_number:\n",
    "            for fn in flight_deatils1:\n",
    "                seatnumber=bi[9]\n",
    "                if(fn[0]==bi[0]):\n",
    "                    if(bi[2]=='window'):\n",
    "                        fn[5]=fn[5]+1\n",
    "                        \n",
    "                    elif(bi[2]=='middle'):\n",
    "                        fn[6]=fn[6]+1\n",
    "                    elif(bi[2]=='aisle'):\n",
    "                        fn[7]=fn[7]+1\n",
    "                try:\n",
    "                    fn[8].remove(seatnumber)\n",
    "                except:\n",
    "                    pass\n",
    "            passenger_details.remove(bi)\n",
    "            \n",
    "            \n",
    "            print(\"Booking Cancelled:\")\n",
    "            \n",
    "# print([bi[0],bi[1],bi[2],bi[3],bi[4],bi[5],bi[6],bi[7]])\n",
    "            flag=False\n",
    "    if(flag==True):\n",
    "        print(\"No Booking Available with Id:\",book_number)\n",
    "    \n",
    "    "
   ]
  },
  {
   "cell_type": "code",
   "execution_count": null,
   "id": "47a18dc6",
   "metadata": {},
   "outputs": [],
   "source": [
    "def Menu():\n",
    "    while True:\n",
    "        print(\"------------- ---------------------------------------------\")\n",
    "        print(\" Options available are:\")\n",
    "        print(\"1. all_flight\")\n",
    "        print(\"2. avilable_flight\")\n",
    "        print(\"3. seat_selection\")\n",
    "        print(\"4. Search_Booking_deatils \")\n",
    "        print(\"5. allBookingdetails \")\n",
    "        print(\"6.flight_occurance\")\n",
    "        print(\"7. cancel_booking\")\n",
    "        print(\"8. Exit\")\n",
    "        choice = input(\"Enter your choice: \")\n",
    "        if choice =='1':\n",
    "            all_flight()\n",
    "        elif choice == \"2\":\n",
    "            avilable_flight()\n",
    "        elif choice == \"3\":\n",
    "            seat_selection()\n",
    "        elif choice == \"4\":\n",
    "            Search_Booking_deatils()\n",
    "        elif choice == \"5\":\n",
    "            allBookingdetails()\n",
    "        elif choice == \"6\":\n",
    "            flight_occurance()\n",
    "        elif choice == \"7\":\n",
    "            cancel_booking()\n",
    "        elif choice == \"8\":\n",
    "            print(\"Exit\")\n",
    "            break\n",
    "        else:\n",
    "            print(\"Invalid choice. Please try again.\")"
   ]
  },
  {
   "cell_type": "code",
   "execution_count": null,
   "id": "dd32e41b",
   "metadata": {},
   "outputs": [],
   "source": [
    "Menu()"
   ]
  },
  {
   "cell_type": "code",
   "execution_count": null,
   "id": "b8c6d00e",
   "metadata": {},
   "outputs": [],
   "source": []
  },
  {
   "cell_type": "code",
   "execution_count": null,
   "id": "25e6f7bf",
   "metadata": {},
   "outputs": [],
   "source": []
  },
  {
   "cell_type": "code",
   "execution_count": null,
   "id": "65536cc8",
   "metadata": {},
   "outputs": [],
   "source": []
  },
  {
   "cell_type": "code",
   "execution_count": null,
   "id": "967a4eb5",
   "metadata": {},
   "outputs": [],
   "source": []
  },
  {
   "cell_type": "code",
   "execution_count": null,
   "id": "20214cfa",
   "metadata": {},
   "outputs": [],
   "source": []
  },
  {
   "cell_type": "code",
   "execution_count": null,
   "id": "6c5522a9",
   "metadata": {},
   "outputs": [],
   "source": []
  },
  {
   "cell_type": "code",
   "execution_count": null,
   "id": "16bcf0bc",
   "metadata": {},
   "outputs": [],
   "source": []
  },
  {
   "cell_type": "markdown",
   "id": "cc8aa544",
   "metadata": {},
   "source": []
  },
  {
   "cell_type": "code",
   "execution_count": null,
   "id": "5a2504e1",
   "metadata": {},
   "outputs": [],
   "source": []
  },
  {
   "cell_type": "code",
   "execution_count": null,
   "id": "72b3a7a3",
   "metadata": {},
   "outputs": [],
   "source": []
  },
  {
   "cell_type": "code",
   "execution_count": null,
   "id": "0d0b8ace",
   "metadata": {},
   "outputs": [],
   "source": []
  },
  {
   "cell_type": "code",
   "execution_count": null,
   "id": "6db399b1",
   "metadata": {},
   "outputs": [],
   "source": []
  },
  {
   "cell_type": "code",
   "execution_count": null,
   "id": "9448fe86",
   "metadata": {},
   "outputs": [],
   "source": []
  },
  {
   "cell_type": "code",
   "execution_count": null,
   "id": "a5e1158c",
   "metadata": {},
   "outputs": [],
   "source": []
  },
  {
   "cell_type": "code",
   "execution_count": null,
   "id": "fd3bf413",
   "metadata": {},
   "outputs": [],
   "source": []
  },
  {
   "cell_type": "code",
   "execution_count": null,
   "id": "abe2ab33",
   "metadata": {},
   "outputs": [],
   "source": []
  },
  {
   "cell_type": "code",
   "execution_count": null,
   "id": "e915aa98",
   "metadata": {},
   "outputs": [],
   "source": []
  },
  {
   "cell_type": "code",
   "execution_count": null,
   "id": "27c3b2d9",
   "metadata": {},
   "outputs": [],
   "source": []
  },
  {
   "cell_type": "code",
   "execution_count": null,
   "id": "42a209ad",
   "metadata": {},
   "outputs": [],
   "source": []
  },
  {
   "cell_type": "code",
   "execution_count": null,
   "id": "b1773d1c",
   "metadata": {},
   "outputs": [],
   "source": []
  },
  {
   "cell_type": "code",
   "execution_count": null,
   "id": "d31bfcd5",
   "metadata": {},
   "outputs": [],
   "source": []
  },
  {
   "cell_type": "code",
   "execution_count": null,
   "id": "62f36214",
   "metadata": {},
   "outputs": [],
   "source": []
  },
  {
   "cell_type": "code",
   "execution_count": null,
   "id": "040546c5",
   "metadata": {},
   "outputs": [],
   "source": []
  },
  {
   "cell_type": "code",
   "execution_count": null,
   "id": "675b54ed",
   "metadata": {},
   "outputs": [],
   "source": []
  },
  {
   "cell_type": "code",
   "execution_count": null,
   "id": "a2df485c",
   "metadata": {},
   "outputs": [],
   "source": []
  },
  {
   "cell_type": "code",
   "execution_count": null,
   "id": "ec1b4409",
   "metadata": {},
   "outputs": [],
   "source": []
  },
  {
   "cell_type": "code",
   "execution_count": null,
   "id": "387b8b45",
   "metadata": {},
   "outputs": [],
   "source": []
  },
  {
   "cell_type": "code",
   "execution_count": null,
   "id": "60c763e8",
   "metadata": {},
   "outputs": [],
   "source": []
  },
  {
   "cell_type": "code",
   "execution_count": null,
   "id": "b0453e27",
   "metadata": {},
   "outputs": [],
   "source": []
  },
  {
   "cell_type": "code",
   "execution_count": null,
   "id": "248ee317",
   "metadata": {},
   "outputs": [],
   "source": []
  },
  {
   "cell_type": "code",
   "execution_count": null,
   "id": "07539b8f",
   "metadata": {},
   "outputs": [],
   "source": []
  },
  {
   "cell_type": "code",
   "execution_count": null,
   "id": "b069288a",
   "metadata": {},
   "outputs": [],
   "source": []
  },
  {
   "cell_type": "code",
   "execution_count": null,
   "id": "ee5bb1f0",
   "metadata": {},
   "outputs": [],
   "source": []
  },
  {
   "cell_type": "code",
   "execution_count": null,
   "id": "52fc01d9",
   "metadata": {},
   "outputs": [],
   "source": []
  },
  {
   "cell_type": "code",
   "execution_count": null,
   "id": "1ed29ec3",
   "metadata": {},
   "outputs": [],
   "source": []
  },
  {
   "cell_type": "code",
   "execution_count": null,
   "id": "4b50cbe3",
   "metadata": {},
   "outputs": [],
   "source": []
  },
  {
   "cell_type": "code",
   "execution_count": null,
   "id": "699b552f",
   "metadata": {},
   "outputs": [],
   "source": []
  },
  {
   "cell_type": "code",
   "execution_count": null,
   "id": "ceee26fd",
   "metadata": {},
   "outputs": [],
   "source": []
  },
  {
   "cell_type": "code",
   "execution_count": null,
   "id": "5ee214b9",
   "metadata": {},
   "outputs": [],
   "source": []
  },
  {
   "cell_type": "code",
   "execution_count": null,
   "id": "a4e2c03c",
   "metadata": {},
   "outputs": [],
   "source": []
  },
  {
   "cell_type": "code",
   "execution_count": null,
   "id": "46d7be76",
   "metadata": {},
   "outputs": [],
   "source": []
  },
  {
   "cell_type": "code",
   "execution_count": null,
   "id": "1da0ac37",
   "metadata": {},
   "outputs": [],
   "source": []
  },
  {
   "cell_type": "code",
   "execution_count": null,
   "id": "4f25d69f",
   "metadata": {},
   "outputs": [],
   "source": []
  },
  {
   "cell_type": "code",
   "execution_count": null,
   "id": "4f8367e6",
   "metadata": {},
   "outputs": [],
   "source": []
  },
  {
   "cell_type": "code",
   "execution_count": null,
   "id": "00c90919",
   "metadata": {},
   "outputs": [],
   "source": []
  },
  {
   "cell_type": "code",
   "execution_count": null,
   "id": "c2401338",
   "metadata": {},
   "outputs": [],
   "source": []
  },
  {
   "cell_type": "code",
   "execution_count": null,
   "id": "ad5463ad",
   "metadata": {},
   "outputs": [],
   "source": []
  },
  {
   "cell_type": "code",
   "execution_count": null,
   "id": "7a753648",
   "metadata": {},
   "outputs": [],
   "source": []
  },
  {
   "cell_type": "code",
   "execution_count": null,
   "id": "2c5f82d5",
   "metadata": {},
   "outputs": [],
   "source": []
  },
  {
   "cell_type": "code",
   "execution_count": null,
   "id": "59cbfde2",
   "metadata": {},
   "outputs": [],
   "source": []
  },
  {
   "cell_type": "code",
   "execution_count": null,
   "id": "9d4edd88",
   "metadata": {},
   "outputs": [],
   "source": []
  },
  {
   "cell_type": "code",
   "execution_count": null,
   "id": "5e79738c",
   "metadata": {},
   "outputs": [],
   "source": []
  },
  {
   "cell_type": "code",
   "execution_count": 1,
   "id": "ef476688",
   "metadata": {},
   "outputs": [
    {
     "ename": "NameError",
     "evalue": "name 'datetime' is not defined",
     "output_type": "error",
     "traceback": [
      "\u001b[1;31m---------------------------------------------------------------------------\u001b[0m",
      "\u001b[1;31mNameError\u001b[0m                                 Traceback (most recent call last)",
      "Cell \u001b[1;32mIn[1], line 1\u001b[0m\n\u001b[1;32m----> 1\u001b[0m help(\u001b[43mdatetime\u001b[49m)\n",
      "\u001b[1;31mNameError\u001b[0m: name 'datetime' is not defined"
     ]
    }
   ],
   "source": [
    "help(datetime)"
   ]
  },
  {
   "cell_type": "code",
   "execution_count": null,
   "id": "325044b2",
   "metadata": {},
   "outputs": [],
   "source": []
  },
  {
   "cell_type": "code",
   "execution_count": null,
   "id": "b136a86c",
   "metadata": {},
   "outputs": [],
   "source": []
  },
  {
   "cell_type": "code",
   "execution_count": null,
   "id": "370ddfda",
   "metadata": {},
   "outputs": [],
   "source": []
  },
  {
   "cell_type": "code",
   "execution_count": null,
   "id": "7cc85353",
   "metadata": {},
   "outputs": [],
   "source": []
  },
  {
   "cell_type": "code",
   "execution_count": null,
   "id": "a0e9070b",
   "metadata": {},
   "outputs": [],
   "source": []
  }
 ],
 "metadata": {
  "kernelspec": {
   "display_name": "Python 3 (ipykernel)",
   "language": "python",
   "name": "python3"
  },
  "language_info": {
   "codemirror_mode": {
    "name": "ipython",
    "version": 3
   },
   "file_extension": ".py",
   "mimetype": "text/x-python",
   "name": "python",
   "nbconvert_exporter": "python",
   "pygments_lexer": "ipython3",
   "version": "3.10.9"
  }
 },
 "nbformat": 4,
 "nbformat_minor": 5
}
